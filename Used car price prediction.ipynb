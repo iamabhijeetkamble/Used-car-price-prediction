{
 "cells": [
  {
   "cell_type": "markdown",
   "metadata": {},
   "source": [
    "## Problem statement"
   ]
  },
  {
   "cell_type": "markdown",
   "metadata": {},
   "source": [
    "The prices of new cars in the industry is fixed by the manufacturer \n",
    "with some additional costs incurred by the Government in the form of \n",
    "taxes. So, customers buying a new car can be assured of the money \n",
    "they invest to be worthy.\n",
    "There is a need for a used car price prediction system to effectively \n",
    "determine the worthiness of the car using a variety of features. Even \n",
    "though there are websites that offers this service, their prediction method \n",
    "may not be the best. Besides, different models and systems may contribute \n",
    "on predicting power for a used car’s actual market value. It is important \n",
    "to know their actual market value while both buying and selling."
   ]
  },
  {
   "cell_type": "markdown",
   "metadata": {},
   "source": [
    "## Dataset discription"
   ]
  },
  {
   "cell_type": "markdown",
   "metadata": {},
   "source": [
    "This dataset contains over 7000+ true value cars data across all major \n",
    "tier 1 and tier 2 cities in India which is ready to accept a different owner. \n",
    "The information includes car manufacturer, model, fuel type, year of manufacture \n",
    "to mention a few."
   ]
  },
  {
   "cell_type": "markdown",
   "metadata": {},
   "source": [
    "## Import Dependencies"
   ]
  },
  {
   "cell_type": "code",
   "execution_count": 1,
   "metadata": {},
   "outputs": [],
   "source": [
    "import pandas as pd\n",
    "import numpy as np\n",
    "import seaborn as sns\n",
    "import matplotlib.pyplot as plt\n",
    "\n",
    "pd.set_option(\"display.max_columns\",None)"
   ]
  },
  {
   "cell_type": "markdown",
   "metadata": {},
   "source": [
    "## Import data"
   ]
  },
  {
   "cell_type": "markdown",
   "metadata": {},
   "source": [
    "### Train data"
   ]
  },
  {
   "cell_type": "code",
   "execution_count": 2,
   "metadata": {},
   "outputs": [
    {
     "data": {
      "text/html": [
       "<div>\n",
       "<style scoped>\n",
       "    .dataframe tbody tr th:only-of-type {\n",
       "        vertical-align: middle;\n",
       "    }\n",
       "\n",
       "    .dataframe tbody tr th {\n",
       "        vertical-align: top;\n",
       "    }\n",
       "\n",
       "    .dataframe thead th {\n",
       "        text-align: right;\n",
       "    }\n",
       "</style>\n",
       "<table border=\"1\" class=\"dataframe\">\n",
       "  <thead>\n",
       "    <tr style=\"text-align: right;\">\n",
       "      <th></th>\n",
       "      <th>id</th>\n",
       "      <th>car_name</th>\n",
       "      <th>yr_mfr</th>\n",
       "      <th>fuel_type</th>\n",
       "      <th>kms_run</th>\n",
       "      <th>sale_price</th>\n",
       "      <th>city</th>\n",
       "      <th>times_viewed</th>\n",
       "      <th>body_type</th>\n",
       "      <th>transmission</th>\n",
       "      <th>variant</th>\n",
       "      <th>assured_buy</th>\n",
       "      <th>registered_city</th>\n",
       "      <th>registered_state</th>\n",
       "      <th>is_hot</th>\n",
       "      <th>rto</th>\n",
       "      <th>source</th>\n",
       "      <th>make</th>\n",
       "      <th>model</th>\n",
       "      <th>car_availability</th>\n",
       "      <th>total_owners</th>\n",
       "      <th>broker_quote</th>\n",
       "      <th>original_price</th>\n",
       "      <th>car_rating</th>\n",
       "      <th>ad_created_on</th>\n",
       "      <th>fitness_certificate</th>\n",
       "      <th>emi_starts_from</th>\n",
       "      <th>booking_down_pymnt</th>\n",
       "      <th>reserved</th>\n",
       "      <th>warranty_avail</th>\n",
       "    </tr>\n",
       "  </thead>\n",
       "  <tbody>\n",
       "    <tr>\n",
       "      <th>0</th>\n",
       "      <td>1</td>\n",
       "      <td>maruti swift</td>\n",
       "      <td>2015</td>\n",
       "      <td>petrol</td>\n",
       "      <td>8063</td>\n",
       "      <td>386399</td>\n",
       "      <td>noida</td>\n",
       "      <td>18715</td>\n",
       "      <td>hatchback</td>\n",
       "      <td>manual</td>\n",
       "      <td>lxi opt</td>\n",
       "      <td>True</td>\n",
       "      <td>delhi</td>\n",
       "      <td>delhi</td>\n",
       "      <td>True</td>\n",
       "      <td>dl6c</td>\n",
       "      <td>inperson_sale</td>\n",
       "      <td>maruti</td>\n",
       "      <td>swift</td>\n",
       "      <td>in_stock</td>\n",
       "      <td>2</td>\n",
       "      <td>397677</td>\n",
       "      <td>404177.0</td>\n",
       "      <td>great</td>\n",
       "      <td>2021-04-04T07:09:18.583</td>\n",
       "      <td>True</td>\n",
       "      <td>8975</td>\n",
       "      <td>57960</td>\n",
       "      <td>False</td>\n",
       "      <td>False</td>\n",
       "    </tr>\n",
       "    <tr>\n",
       "      <th>1</th>\n",
       "      <td>2</td>\n",
       "      <td>maruti alto 800</td>\n",
       "      <td>2016</td>\n",
       "      <td>petrol</td>\n",
       "      <td>23104</td>\n",
       "      <td>265499</td>\n",
       "      <td>noida</td>\n",
       "      <td>2676</td>\n",
       "      <td>hatchback</td>\n",
       "      <td>manual</td>\n",
       "      <td>lxi</td>\n",
       "      <td>True</td>\n",
       "      <td>noida</td>\n",
       "      <td>uttar pradesh</td>\n",
       "      <td>True</td>\n",
       "      <td>up16</td>\n",
       "      <td>inperson_sale</td>\n",
       "      <td>maruti</td>\n",
       "      <td>alto 800</td>\n",
       "      <td>in_stock</td>\n",
       "      <td>1</td>\n",
       "      <td>272935</td>\n",
       "      <td>354313.0</td>\n",
       "      <td>great</td>\n",
       "      <td>2021-03-22T14:07:32.833</td>\n",
       "      <td>True</td>\n",
       "      <td>6167</td>\n",
       "      <td>39825</td>\n",
       "      <td>False</td>\n",
       "      <td>False</td>\n",
       "    </tr>\n",
       "    <tr>\n",
       "      <th>2</th>\n",
       "      <td>3</td>\n",
       "      <td>hyundai grand i10</td>\n",
       "      <td>2017</td>\n",
       "      <td>petrol</td>\n",
       "      <td>23402</td>\n",
       "      <td>477699</td>\n",
       "      <td>noida</td>\n",
       "      <td>609</td>\n",
       "      <td>hatchback</td>\n",
       "      <td>manual</td>\n",
       "      <td>sports 1.2 vtvt</td>\n",
       "      <td>True</td>\n",
       "      <td>agra</td>\n",
       "      <td>uttar pradesh</td>\n",
       "      <td>True</td>\n",
       "      <td>up80</td>\n",
       "      <td>inperson_sale</td>\n",
       "      <td>hyundai</td>\n",
       "      <td>grand i10</td>\n",
       "      <td>in_stock</td>\n",
       "      <td>1</td>\n",
       "      <td>469605</td>\n",
       "      <td>NaN</td>\n",
       "      <td>great</td>\n",
       "      <td>2021-03-20T05:36:31.311</td>\n",
       "      <td>True</td>\n",
       "      <td>11096</td>\n",
       "      <td>71655</td>\n",
       "      <td>False</td>\n",
       "      <td>False</td>\n",
       "    </tr>\n",
       "    <tr>\n",
       "      <th>3</th>\n",
       "      <td>4</td>\n",
       "      <td>maruti swift</td>\n",
       "      <td>2013</td>\n",
       "      <td>diesel</td>\n",
       "      <td>39124</td>\n",
       "      <td>307999</td>\n",
       "      <td>noida</td>\n",
       "      <td>6511</td>\n",
       "      <td>hatchback</td>\n",
       "      <td>manual</td>\n",
       "      <td>vdi</td>\n",
       "      <td>True</td>\n",
       "      <td>delhi</td>\n",
       "      <td>delhi</td>\n",
       "      <td>True</td>\n",
       "      <td>dl1c</td>\n",
       "      <td>inperson_sale</td>\n",
       "      <td>maruti</td>\n",
       "      <td>swift</td>\n",
       "      <td>in_stock</td>\n",
       "      <td>1</td>\n",
       "      <td>294262</td>\n",
       "      <td>374326.0</td>\n",
       "      <td>great</td>\n",
       "      <td>2021-01-21T12:59:19.299</td>\n",
       "      <td>True</td>\n",
       "      <td>7154</td>\n",
       "      <td>46200</td>\n",
       "      <td>False</td>\n",
       "      <td>False</td>\n",
       "    </tr>\n",
       "    <tr>\n",
       "      <th>4</th>\n",
       "      <td>5</td>\n",
       "      <td>hyundai grand i10</td>\n",
       "      <td>2015</td>\n",
       "      <td>petrol</td>\n",
       "      <td>22116</td>\n",
       "      <td>361499</td>\n",
       "      <td>noida</td>\n",
       "      <td>3225</td>\n",
       "      <td>hatchback</td>\n",
       "      <td>manual</td>\n",
       "      <td>magna 1.2 vtvt</td>\n",
       "      <td>False</td>\n",
       "      <td>new delhi</td>\n",
       "      <td>delhi</td>\n",
       "      <td>True</td>\n",
       "      <td>dl12</td>\n",
       "      <td>inperson_sale</td>\n",
       "      <td>hyundai</td>\n",
       "      <td>grand i10</td>\n",
       "      <td>in_stock</td>\n",
       "      <td>1</td>\n",
       "      <td>360716</td>\n",
       "      <td>367216.0</td>\n",
       "      <td>great</td>\n",
       "      <td>2021-04-01T13:33:40.733</td>\n",
       "      <td>True</td>\n",
       "      <td>8397</td>\n",
       "      <td>54225</td>\n",
       "      <td>False</td>\n",
       "      <td>False</td>\n",
       "    </tr>\n",
       "  </tbody>\n",
       "</table>\n",
       "</div>"
      ],
      "text/plain": [
       "   id           car_name  yr_mfr fuel_type  kms_run  sale_price   city  \\\n",
       "0   1       maruti swift    2015    petrol     8063      386399  noida   \n",
       "1   2    maruti alto 800    2016    petrol    23104      265499  noida   \n",
       "2   3  hyundai grand i10    2017    petrol    23402      477699  noida   \n",
       "3   4       maruti swift    2013    diesel    39124      307999  noida   \n",
       "4   5  hyundai grand i10    2015    petrol    22116      361499  noida   \n",
       "\n",
       "   times_viewed  body_type transmission          variant  assured_buy  \\\n",
       "0         18715  hatchback       manual          lxi opt         True   \n",
       "1          2676  hatchback       manual              lxi         True   \n",
       "2           609  hatchback       manual  sports 1.2 vtvt         True   \n",
       "3          6511  hatchback       manual              vdi         True   \n",
       "4          3225  hatchback       manual   magna 1.2 vtvt        False   \n",
       "\n",
       "  registered_city registered_state  is_hot   rto         source     make  \\\n",
       "0           delhi            delhi    True  dl6c  inperson_sale   maruti   \n",
       "1           noida    uttar pradesh    True  up16  inperson_sale   maruti   \n",
       "2            agra    uttar pradesh    True  up80  inperson_sale  hyundai   \n",
       "3           delhi            delhi    True  dl1c  inperson_sale   maruti   \n",
       "4       new delhi            delhi    True  dl12  inperson_sale  hyundai   \n",
       "\n",
       "       model car_availability  total_owners  broker_quote  original_price  \\\n",
       "0      swift         in_stock             2        397677        404177.0   \n",
       "1   alto 800         in_stock             1        272935        354313.0   \n",
       "2  grand i10         in_stock             1        469605             NaN   \n",
       "3      swift         in_stock             1        294262        374326.0   \n",
       "4  grand i10         in_stock             1        360716        367216.0   \n",
       "\n",
       "  car_rating            ad_created_on fitness_certificate  emi_starts_from  \\\n",
       "0      great  2021-04-04T07:09:18.583                True             8975   \n",
       "1      great  2021-03-22T14:07:32.833                True             6167   \n",
       "2      great  2021-03-20T05:36:31.311                True            11096   \n",
       "3      great  2021-01-21T12:59:19.299                True             7154   \n",
       "4      great  2021-04-01T13:33:40.733                True             8397   \n",
       "\n",
       "   booking_down_pymnt  reserved  warranty_avail  \n",
       "0               57960     False           False  \n",
       "1               39825     False           False  \n",
       "2               71655     False           False  \n",
       "3               46200     False           False  \n",
       "4               54225     False           False  "
      ]
     },
     "execution_count": 2,
     "metadata": {},
     "output_type": "execute_result"
    }
   ],
   "source": [
    "train = pd.read_csv(r'train.csv', header = 0)\n",
    "train.head()"
   ]
  },
  {
   "cell_type": "markdown",
   "metadata": {},
   "source": [
    "### Test data"
   ]
  },
  {
   "cell_type": "code",
   "execution_count": 3,
   "metadata": {},
   "outputs": [
    {
     "data": {
      "text/html": [
       "<div>\n",
       "<style scoped>\n",
       "    .dataframe tbody tr th:only-of-type {\n",
       "        vertical-align: middle;\n",
       "    }\n",
       "\n",
       "    .dataframe tbody tr th {\n",
       "        vertical-align: top;\n",
       "    }\n",
       "\n",
       "    .dataframe thead th {\n",
       "        text-align: right;\n",
       "    }\n",
       "</style>\n",
       "<table border=\"1\" class=\"dataframe\">\n",
       "  <thead>\n",
       "    <tr style=\"text-align: right;\">\n",
       "      <th></th>\n",
       "      <th>id</th>\n",
       "      <th>car_name</th>\n",
       "      <th>yr_mfr</th>\n",
       "      <th>fuel_type</th>\n",
       "      <th>kms_run</th>\n",
       "      <th>sale_price</th>\n",
       "      <th>city</th>\n",
       "      <th>times_viewed</th>\n",
       "      <th>body_type</th>\n",
       "      <th>transmission</th>\n",
       "      <th>variant</th>\n",
       "      <th>assured_buy</th>\n",
       "      <th>registered_city</th>\n",
       "      <th>registered_state</th>\n",
       "      <th>is_hot</th>\n",
       "      <th>rto</th>\n",
       "      <th>source</th>\n",
       "      <th>make</th>\n",
       "      <th>model</th>\n",
       "      <th>car_availability</th>\n",
       "      <th>total_owners</th>\n",
       "      <th>broker_quote</th>\n",
       "      <th>original_price</th>\n",
       "      <th>car_rating</th>\n",
       "      <th>ad_created_on</th>\n",
       "      <th>fitness_certificate</th>\n",
       "      <th>emi_starts_from</th>\n",
       "      <th>booking_down_pymnt</th>\n",
       "      <th>reserved</th>\n",
       "      <th>warranty_avail</th>\n",
       "    </tr>\n",
       "  </thead>\n",
       "  <tbody>\n",
       "    <tr>\n",
       "      <th>0</th>\n",
       "      <td>1</td>\n",
       "      <td>maruti swift dzire</td>\n",
       "      <td>2012</td>\n",
       "      <td>petrol</td>\n",
       "      <td>69029</td>\n",
       "      <td>364299</td>\n",
       "      <td>pune</td>\n",
       "      <td>2068</td>\n",
       "      <td>sedan</td>\n",
       "      <td>manual</td>\n",
       "      <td>vxi 1.2 bs iv</td>\n",
       "      <td>True</td>\n",
       "      <td>pune</td>\n",
       "      <td>maharashtra</td>\n",
       "      <td>True</td>\n",
       "      <td>mh12</td>\n",
       "      <td>inperson_sale</td>\n",
       "      <td>maruti</td>\n",
       "      <td>swift dzire</td>\n",
       "      <td>in_stock</td>\n",
       "      <td>3</td>\n",
       "      <td>363529</td>\n",
       "      <td>365029.0</td>\n",
       "      <td>great</td>\n",
       "      <td>2021-03-16T05:00:49.555</td>\n",
       "      <td>True</td>\n",
       "      <td>8462</td>\n",
       "      <td>54645</td>\n",
       "      <td>False</td>\n",
       "      <td>False</td>\n",
       "    </tr>\n",
       "    <tr>\n",
       "      <th>1</th>\n",
       "      <td>2</td>\n",
       "      <td>hyundai eon</td>\n",
       "      <td>2013</td>\n",
       "      <td>petrol</td>\n",
       "      <td>45721</td>\n",
       "      <td>216799</td>\n",
       "      <td>gurgaon</td>\n",
       "      <td>903</td>\n",
       "      <td>hatchback</td>\n",
       "      <td>manual</td>\n",
       "      <td>era plus</td>\n",
       "      <td>True</td>\n",
       "      <td>delhi</td>\n",
       "      <td>delhi</td>\n",
       "      <td>True</td>\n",
       "      <td>dl7c</td>\n",
       "      <td>inperson_sale</td>\n",
       "      <td>hyundai</td>\n",
       "      <td>eon</td>\n",
       "      <td>in_stock</td>\n",
       "      <td>1</td>\n",
       "      <td>205738</td>\n",
       "      <td>NaN</td>\n",
       "      <td>great</td>\n",
       "      <td>2021-03-10T12:08:11.905</td>\n",
       "      <td>True</td>\n",
       "      <td>5036</td>\n",
       "      <td>32520</td>\n",
       "      <td>False</td>\n",
       "      <td>False</td>\n",
       "    </tr>\n",
       "    <tr>\n",
       "      <th>2</th>\n",
       "      <td>3</td>\n",
       "      <td>honda amaze</td>\n",
       "      <td>2013</td>\n",
       "      <td>diesel</td>\n",
       "      <td>37395</td>\n",
       "      <td>387399</td>\n",
       "      <td>pune</td>\n",
       "      <td>2809</td>\n",
       "      <td>sedan</td>\n",
       "      <td>manual</td>\n",
       "      <td>1.5 smt i dtec</td>\n",
       "      <td>True</td>\n",
       "      <td>mumbai</td>\n",
       "      <td>maharashtra</td>\n",
       "      <td>True</td>\n",
       "      <td>mh02</td>\n",
       "      <td>inperson_sale</td>\n",
       "      <td>honda</td>\n",
       "      <td>amaze</td>\n",
       "      <td>in_stock</td>\n",
       "      <td>1</td>\n",
       "      <td>382667</td>\n",
       "      <td>NaN</td>\n",
       "      <td>great</td>\n",
       "      <td>2021-03-15T12:03:30.041</td>\n",
       "      <td>True</td>\n",
       "      <td>8998</td>\n",
       "      <td>58110</td>\n",
       "      <td>True</td>\n",
       "      <td>False</td>\n",
       "    </tr>\n",
       "    <tr>\n",
       "      <th>3</th>\n",
       "      <td>4</td>\n",
       "      <td>hyundai i20</td>\n",
       "      <td>2012</td>\n",
       "      <td>petrol</td>\n",
       "      <td>37652</td>\n",
       "      <td>364699</td>\n",
       "      <td>bengaluru</td>\n",
       "      <td>1054</td>\n",
       "      <td>hatchback</td>\n",
       "      <td>manual</td>\n",
       "      <td>magna o 1.2</td>\n",
       "      <td>True</td>\n",
       "      <td>bengaluru</td>\n",
       "      <td>karnataka</td>\n",
       "      <td>True</td>\n",
       "      <td>ka53</td>\n",
       "      <td>inperson_sale</td>\n",
       "      <td>hyundai</td>\n",
       "      <td>i20</td>\n",
       "      <td>in_transit</td>\n",
       "      <td>3</td>\n",
       "      <td>335740</td>\n",
       "      <td>NaN</td>\n",
       "      <td>great</td>\n",
       "      <td>2021-04-09T11:16:26.157</td>\n",
       "      <td>True</td>\n",
       "      <td>8471</td>\n",
       "      <td>54705</td>\n",
       "      <td>True</td>\n",
       "      <td>False</td>\n",
       "    </tr>\n",
       "    <tr>\n",
       "      <th>4</th>\n",
       "      <td>5</td>\n",
       "      <td>hyundai creta</td>\n",
       "      <td>2017</td>\n",
       "      <td>diesel</td>\n",
       "      <td>53648</td>\n",
       "      <td>1082011</td>\n",
       "      <td>lucknow</td>\n",
       "      <td>2927</td>\n",
       "      <td>suv</td>\n",
       "      <td>automatic</td>\n",
       "      <td>1.6 crdi sx plus auto</td>\n",
       "      <td>True</td>\n",
       "      <td>lucknow</td>\n",
       "      <td>uttar pradesh</td>\n",
       "      <td>True</td>\n",
       "      <td>up32</td>\n",
       "      <td>inperson_sale</td>\n",
       "      <td>hyundai</td>\n",
       "      <td>creta</td>\n",
       "      <td>in_stock</td>\n",
       "      <td>1</td>\n",
       "      <td>1119840</td>\n",
       "      <td>1125840.0</td>\n",
       "      <td>great</td>\n",
       "      <td>2021-04-01T07:24:31.712</td>\n",
       "      <td>True</td>\n",
       "      <td>25132</td>\n",
       "      <td>162302</td>\n",
       "      <td>False</td>\n",
       "      <td>False</td>\n",
       "    </tr>\n",
       "  </tbody>\n",
       "</table>\n",
       "</div>"
      ],
      "text/plain": [
       "   id            car_name  yr_mfr fuel_type  kms_run  sale_price       city  \\\n",
       "0   1  maruti swift dzire    2012    petrol    69029      364299       pune   \n",
       "1   2         hyundai eon    2013    petrol    45721      216799    gurgaon   \n",
       "2   3         honda amaze    2013    diesel    37395      387399       pune   \n",
       "3   4         hyundai i20    2012    petrol    37652      364699  bengaluru   \n",
       "4   5       hyundai creta    2017    diesel    53648     1082011    lucknow   \n",
       "\n",
       "   times_viewed  body_type transmission                variant  assured_buy  \\\n",
       "0          2068      sedan       manual          vxi 1.2 bs iv         True   \n",
       "1           903  hatchback       manual               era plus         True   \n",
       "2          2809      sedan       manual         1.5 smt i dtec         True   \n",
       "3          1054  hatchback       manual            magna o 1.2         True   \n",
       "4          2927        suv    automatic  1.6 crdi sx plus auto         True   \n",
       "\n",
       "  registered_city registered_state  is_hot   rto         source     make  \\\n",
       "0            pune      maharashtra    True  mh12  inperson_sale   maruti   \n",
       "1           delhi            delhi    True  dl7c  inperson_sale  hyundai   \n",
       "2          mumbai      maharashtra    True  mh02  inperson_sale    honda   \n",
       "3       bengaluru        karnataka    True  ka53  inperson_sale  hyundai   \n",
       "4         lucknow    uttar pradesh    True  up32  inperson_sale  hyundai   \n",
       "\n",
       "         model car_availability  total_owners  broker_quote  original_price  \\\n",
       "0  swift dzire         in_stock             3        363529        365029.0   \n",
       "1          eon         in_stock             1        205738             NaN   \n",
       "2        amaze         in_stock             1        382667             NaN   \n",
       "3          i20       in_transit             3        335740             NaN   \n",
       "4        creta         in_stock             1       1119840       1125840.0   \n",
       "\n",
       "  car_rating            ad_created_on  fitness_certificate  emi_starts_from  \\\n",
       "0      great  2021-03-16T05:00:49.555                 True             8462   \n",
       "1      great  2021-03-10T12:08:11.905                 True             5036   \n",
       "2      great  2021-03-15T12:03:30.041                 True             8998   \n",
       "3      great  2021-04-09T11:16:26.157                 True             8471   \n",
       "4      great  2021-04-01T07:24:31.712                 True            25132   \n",
       "\n",
       "   booking_down_pymnt  reserved  warranty_avail  \n",
       "0               54645     False           False  \n",
       "1               32520     False           False  \n",
       "2               58110      True           False  \n",
       "3               54705      True           False  \n",
       "4              162302     False           False  "
      ]
     },
     "execution_count": 3,
     "metadata": {},
     "output_type": "execute_result"
    }
   ],
   "source": [
    "test = pd.read_csv(r'test.csv', header = 0)\n",
    "test.head()"
   ]
  },
  {
   "cell_type": "markdown",
   "metadata": {},
   "source": [
    "## Preprocessing"
   ]
  },
  {
   "cell_type": "markdown",
   "metadata": {},
   "source": [
    "### Train data"
   ]
  },
  {
   "cell_type": "code",
   "execution_count": 4,
   "metadata": {},
   "outputs": [
    {
     "name": "stdout",
     "output_type": "stream",
     "text": [
      "(6399, 30)\n",
      "id                       int64\n",
      "car_name                object\n",
      "yr_mfr                   int64\n",
      "fuel_type               object\n",
      "kms_run                  int64\n",
      "sale_price               int64\n",
      "city                    object\n",
      "times_viewed             int64\n",
      "body_type               object\n",
      "transmission            object\n",
      "variant                 object\n",
      "assured_buy               bool\n",
      "registered_city         object\n",
      "registered_state        object\n",
      "is_hot                    bool\n",
      "rto                     object\n",
      "source                  object\n",
      "make                    object\n",
      "model                   object\n",
      "car_availability        object\n",
      "total_owners             int64\n",
      "broker_quote             int64\n",
      "original_price         float64\n",
      "car_rating              object\n",
      "ad_created_on           object\n",
      "fitness_certificate     object\n",
      "emi_starts_from          int64\n",
      "booking_down_pymnt       int64\n",
      "reserved                  bool\n",
      "warranty_avail            bool\n",
      "dtype: object\n"
     ]
    }
   ],
   "source": [
    "# Cheaking shape & datatypes of variables.\n",
    "print(train.shape)\n",
    "print(train.dtypes)"
   ]
  },
  {
   "cell_type": "code",
   "execution_count": 5,
   "metadata": {},
   "outputs": [
    {
     "data": {
      "text/html": [
       "<div>\n",
       "<style scoped>\n",
       "    .dataframe tbody tr th:only-of-type {\n",
       "        vertical-align: middle;\n",
       "    }\n",
       "\n",
       "    .dataframe tbody tr th {\n",
       "        vertical-align: top;\n",
       "    }\n",
       "\n",
       "    .dataframe thead th {\n",
       "        text-align: right;\n",
       "    }\n",
       "</style>\n",
       "<table border=\"1\" class=\"dataframe\">\n",
       "  <thead>\n",
       "    <tr style=\"text-align: right;\">\n",
       "      <th></th>\n",
       "      <th>id</th>\n",
       "      <th>yr_mfr</th>\n",
       "      <th>kms_run</th>\n",
       "      <th>sale_price</th>\n",
       "      <th>times_viewed</th>\n",
       "      <th>total_owners</th>\n",
       "      <th>broker_quote</th>\n",
       "      <th>original_price</th>\n",
       "      <th>emi_starts_from</th>\n",
       "      <th>booking_down_pymnt</th>\n",
       "    </tr>\n",
       "  </thead>\n",
       "  <tbody>\n",
       "    <tr>\n",
       "      <th>count</th>\n",
       "      <td>6399.000000</td>\n",
       "      <td>6399.000000</td>\n",
       "      <td>6399.000000</td>\n",
       "      <td>6.399000e+03</td>\n",
       "      <td>6399.000000</td>\n",
       "      <td>6399.000000</td>\n",
       "      <td>6.399000e+03</td>\n",
       "      <td>3.575000e+03</td>\n",
       "      <td>6399.000000</td>\n",
       "      <td>6399.000000</td>\n",
       "    </tr>\n",
       "    <tr>\n",
       "      <th>mean</th>\n",
       "      <td>3200.000000</td>\n",
       "      <td>2013.895921</td>\n",
       "      <td>62382.210970</td>\n",
       "      <td>4.546049e+05</td>\n",
       "      <td>1534.860916</td>\n",
       "      <td>1.325988</td>\n",
       "      <td>4.318857e+05</td>\n",
       "      <td>5.507506e+05</td>\n",
       "      <td>10559.340678</td>\n",
       "      <td>68190.888576</td>\n",
       "    </tr>\n",
       "    <tr>\n",
       "      <th>std</th>\n",
       "      <td>1847.376518</td>\n",
       "      <td>3.088329</td>\n",
       "      <td>43087.788245</td>\n",
       "      <td>2.779465e+05</td>\n",
       "      <td>1965.452173</td>\n",
       "      <td>0.574816</td>\n",
       "      <td>2.853266e+05</td>\n",
       "      <td>3.114276e+05</td>\n",
       "      <td>6456.001562</td>\n",
       "      <td>41692.006252</td>\n",
       "    </tr>\n",
       "    <tr>\n",
       "      <th>min</th>\n",
       "      <td>1.000000</td>\n",
       "      <td>1996.000000</td>\n",
       "      <td>60.000000</td>\n",
       "      <td>0.000000e+00</td>\n",
       "      <td>3.000000</td>\n",
       "      <td>1.000000</td>\n",
       "      <td>0.000000e+00</td>\n",
       "      <td>1.150990e+05</td>\n",
       "      <td>0.000000</td>\n",
       "      <td>0.000000</td>\n",
       "    </tr>\n",
       "    <tr>\n",
       "      <th>25%</th>\n",
       "      <td>1600.500000</td>\n",
       "      <td>2012.000000</td>\n",
       "      <td>31555.000000</td>\n",
       "      <td>2.822990e+05</td>\n",
       "      <td>554.000000</td>\n",
       "      <td>1.000000</td>\n",
       "      <td>2.536445e+05</td>\n",
       "      <td>3.424855e+05</td>\n",
       "      <td>6557.000000</td>\n",
       "      <td>42345.000000</td>\n",
       "    </tr>\n",
       "    <tr>\n",
       "      <th>50%</th>\n",
       "      <td>3200.000000</td>\n",
       "      <td>2014.000000</td>\n",
       "      <td>55490.000000</td>\n",
       "      <td>3.820990e+05</td>\n",
       "      <td>1080.000000</td>\n",
       "      <td>1.000000</td>\n",
       "      <td>3.609670e+05</td>\n",
       "      <td>4.672500e+05</td>\n",
       "      <td>8875.000000</td>\n",
       "      <td>57315.000000</td>\n",
       "    </tr>\n",
       "    <tr>\n",
       "      <th>75%</th>\n",
       "      <td>4799.500000</td>\n",
       "      <td>2016.000000</td>\n",
       "      <td>84145.000000</td>\n",
       "      <td>5.400000e+05</td>\n",
       "      <td>1912.000000</td>\n",
       "      <td>2.000000</td>\n",
       "      <td>5.255875e+05</td>\n",
       "      <td>6.663375e+05</td>\n",
       "      <td>12543.000000</td>\n",
       "      <td>81000.000000</td>\n",
       "    </tr>\n",
       "    <tr>\n",
       "      <th>max</th>\n",
       "      <td>6399.000000</td>\n",
       "      <td>2021.000000</td>\n",
       "      <td>996609.000000</td>\n",
       "      <td>3.600000e+06</td>\n",
       "      <td>46141.000000</td>\n",
       "      <td>6.000000</td>\n",
       "      <td>3.250000e+06</td>\n",
       "      <td>2.765057e+06</td>\n",
       "      <td>83619.000000</td>\n",
       "      <td>540000.000000</td>\n",
       "    </tr>\n",
       "  </tbody>\n",
       "</table>\n",
       "</div>"
      ],
      "text/plain": [
       "                id       yr_mfr        kms_run    sale_price  times_viewed  \\\n",
       "count  6399.000000  6399.000000    6399.000000  6.399000e+03   6399.000000   \n",
       "mean   3200.000000  2013.895921   62382.210970  4.546049e+05   1534.860916   \n",
       "std    1847.376518     3.088329   43087.788245  2.779465e+05   1965.452173   \n",
       "min       1.000000  1996.000000      60.000000  0.000000e+00      3.000000   \n",
       "25%    1600.500000  2012.000000   31555.000000  2.822990e+05    554.000000   \n",
       "50%    3200.000000  2014.000000   55490.000000  3.820990e+05   1080.000000   \n",
       "75%    4799.500000  2016.000000   84145.000000  5.400000e+05   1912.000000   \n",
       "max    6399.000000  2021.000000  996609.000000  3.600000e+06  46141.000000   \n",
       "\n",
       "       total_owners  broker_quote  original_price  emi_starts_from  \\\n",
       "count   6399.000000  6.399000e+03    3.575000e+03      6399.000000   \n",
       "mean       1.325988  4.318857e+05    5.507506e+05     10559.340678   \n",
       "std        0.574816  2.853266e+05    3.114276e+05      6456.001562   \n",
       "min        1.000000  0.000000e+00    1.150990e+05         0.000000   \n",
       "25%        1.000000  2.536445e+05    3.424855e+05      6557.000000   \n",
       "50%        1.000000  3.609670e+05    4.672500e+05      8875.000000   \n",
       "75%        2.000000  5.255875e+05    6.663375e+05     12543.000000   \n",
       "max        6.000000  3.250000e+06    2.765057e+06     83619.000000   \n",
       "\n",
       "       booking_down_pymnt  \n",
       "count         6399.000000  \n",
       "mean         68190.888576  \n",
       "std          41692.006252  \n",
       "min              0.000000  \n",
       "25%          42345.000000  \n",
       "50%          57315.000000  \n",
       "75%          81000.000000  \n",
       "max         540000.000000  "
      ]
     },
     "execution_count": 5,
     "metadata": {},
     "output_type": "execute_result"
    }
   ],
   "source": [
    "train.describe()"
   ]
  },
  {
   "cell_type": "code",
   "execution_count": 6,
   "metadata": {},
   "outputs": [
    {
     "data": {
      "text/plain": [
       "id                     6399\n",
       "car_name                182\n",
       "yr_mfr                   24\n",
       "fuel_type                 5\n",
       "kms_run                6243\n",
       "sale_price             4118\n",
       "city                     13\n",
       "times_viewed           2954\n",
       "body_type                 5\n",
       "transmission              2\n",
       "variant                 873\n",
       "assured_buy               2\n",
       "registered_city         230\n",
       "registered_state         16\n",
       "is_hot                    2\n",
       "rto                     255\n",
       "source                    3\n",
       "make                     26\n",
       "model                   182\n",
       "car_availability          4\n",
       "total_owners              6\n",
       "broker_quote           5693\n",
       "original_price         3476\n",
       "car_rating                4\n",
       "ad_created_on          6398\n",
       "fitness_certificate       2\n",
       "emi_starts_from        4048\n",
       "booking_down_pymnt     4048\n",
       "reserved                  2\n",
       "warranty_avail            2\n",
       "dtype: int64"
      ]
     },
     "execution_count": 6,
     "metadata": {},
     "output_type": "execute_result"
    }
   ],
   "source": [
    "# Cheack uniques value counts in variables.\n",
    "train.nunique()"
   ]
  },
  {
   "cell_type": "code",
   "execution_count": 7,
   "metadata": {},
   "outputs": [
    {
     "data": {
      "image/png": "[encoded data removed]",
      "text/plain": [
       "<Figure size 432x288 with 2 Axes>"
      ]
     },
     "metadata": {
      "needs_background": "light"
     },
     "output_type": "display_data"
    }
   ],
   "source": [
    "# No multicollinearity: There should be no multicollinearity between the independent variable\n",
    "\n",
    "plt.rcParams['figure.figsize'] = (15, 8)\n",
    "sns.heatmap(train.corr(), annot = True, linewidth = 0.5, cmap = 'YlGnBu')\n",
    "plt.title('Correlation Heat Map', fontsize = 30)\n",
    "plt.show()"
   ]
  },
  {
   "cell_type": "markdown",
   "metadata": {},
   "source": [
    "<!-- # We can observed that original_price, emi_starts_from, booking_down_payment and broker_quote\n",
    "# are highly correlated with our target variable.\n",
    "# So removing original_price because it has null values too and removing emi_starts_from, booking_down_payment. -->"
   ]
  },
  {
   "cell_type": "markdown",
   "metadata": {},
   "source": [
    "We can observe from above that sale_price,emi_starts_from,booking_down_pymnt original_price ,broker_quote are highly correlated and sale_price is our target variable\n",
    "\n",
    "Here i am removing above mentioned columns and keeping booking_down_payment as it is I am removing original_price also because as we observed above it has null values\n",
    "\n",
    "And also removing Id column because it doesn't effect our target column."
   ]
  },
  {
   "cell_type": "code",
   "execution_count": 8,
   "metadata": {},
   "outputs": [],
   "source": [
    "# Feature selection\n",
    "train = train.drop(columns = ['original_price', 'emi_starts_from', 'booking_down_pymnt', 'id'], axis = 1)"
   ]
  },
  {
   "cell_type": "code",
   "execution_count": 9,
   "metadata": {},
   "outputs": [
    {
     "data": {
      "text/html": [
       "<div>\n",
       "<style scoped>\n",
       "    .dataframe tbody tr th:only-of-type {\n",
       "        vertical-align: middle;\n",
       "    }\n",
       "\n",
       "    .dataframe tbody tr th {\n",
       "        vertical-align: top;\n",
       "    }\n",
       "\n",
       "    .dataframe thead th {\n",
       "        text-align: right;\n",
       "    }\n",
       "</style>\n",
       "<table border=\"1\" class=\"dataframe\">\n",
       "  <thead>\n",
       "    <tr style=\"text-align: right;\">\n",
       "      <th></th>\n",
       "      <th>car_name</th>\n",
       "      <th>yr_mfr</th>\n",
       "      <th>fuel_type</th>\n",
       "      <th>kms_run</th>\n",
       "      <th>sale_price</th>\n",
       "      <th>city</th>\n",
       "      <th>times_viewed</th>\n",
       "      <th>body_type</th>\n",
       "      <th>transmission</th>\n",
       "      <th>variant</th>\n",
       "      <th>assured_buy</th>\n",
       "      <th>registered_city</th>\n",
       "      <th>registered_state</th>\n",
       "      <th>is_hot</th>\n",
       "      <th>rto</th>\n",
       "      <th>source</th>\n",
       "      <th>make</th>\n",
       "      <th>model</th>\n",
       "      <th>car_availability</th>\n",
       "      <th>total_owners</th>\n",
       "      <th>broker_quote</th>\n",
       "      <th>car_rating</th>\n",
       "      <th>ad_created_on</th>\n",
       "      <th>fitness_certificate</th>\n",
       "      <th>reserved</th>\n",
       "      <th>warranty_avail</th>\n",
       "    </tr>\n",
       "  </thead>\n",
       "  <tbody>\n",
       "    <tr>\n",
       "      <th>0</th>\n",
       "      <td>maruti swift</td>\n",
       "      <td>2015</td>\n",
       "      <td>petrol</td>\n",
       "      <td>8063</td>\n",
       "      <td>386399</td>\n",
       "      <td>noida</td>\n",
       "      <td>18715</td>\n",
       "      <td>hatchback</td>\n",
       "      <td>manual</td>\n",
       "      <td>lxi opt</td>\n",
       "      <td>True</td>\n",
       "      <td>delhi</td>\n",
       "      <td>delhi</td>\n",
       "      <td>True</td>\n",
       "      <td>dl6c</td>\n",
       "      <td>inperson_sale</td>\n",
       "      <td>maruti</td>\n",
       "      <td>swift</td>\n",
       "      <td>in_stock</td>\n",
       "      <td>2</td>\n",
       "      <td>397677</td>\n",
       "      <td>great</td>\n",
       "      <td>2021-04-04T07:09:18.583</td>\n",
       "      <td>True</td>\n",
       "      <td>False</td>\n",
       "      <td>False</td>\n",
       "    </tr>\n",
       "    <tr>\n",
       "      <th>1</th>\n",
       "      <td>maruti alto 800</td>\n",
       "      <td>2016</td>\n",
       "      <td>petrol</td>\n",
       "      <td>23104</td>\n",
       "      <td>265499</td>\n",
       "      <td>noida</td>\n",
       "      <td>2676</td>\n",
       "      <td>hatchback</td>\n",
       "      <td>manual</td>\n",
       "      <td>lxi</td>\n",
       "      <td>True</td>\n",
       "      <td>noida</td>\n",
       "      <td>uttar pradesh</td>\n",
       "      <td>True</td>\n",
       "      <td>up16</td>\n",
       "      <td>inperson_sale</td>\n",
       "      <td>maruti</td>\n",
       "      <td>alto 800</td>\n",
       "      <td>in_stock</td>\n",
       "      <td>1</td>\n",
       "      <td>272935</td>\n",
       "      <td>great</td>\n",
       "      <td>2021-03-22T14:07:32.833</td>\n",
       "      <td>True</td>\n",
       "      <td>False</td>\n",
       "      <td>False</td>\n",
       "    </tr>\n",
       "    <tr>\n",
       "      <th>2</th>\n",
       "      <td>hyundai grand i10</td>\n",
       "      <td>2017</td>\n",
       "      <td>petrol</td>\n",
       "      <td>23402</td>\n",
       "      <td>477699</td>\n",
       "      <td>noida</td>\n",
       "      <td>609</td>\n",
       "      <td>hatchback</td>\n",
       "      <td>manual</td>\n",
       "      <td>sports 1.2 vtvt</td>\n",
       "      <td>True</td>\n",
       "      <td>agra</td>\n",
       "      <td>uttar pradesh</td>\n",
       "      <td>True</td>\n",
       "      <td>up80</td>\n",
       "      <td>inperson_sale</td>\n",
       "      <td>hyundai</td>\n",
       "      <td>grand i10</td>\n",
       "      <td>in_stock</td>\n",
       "      <td>1</td>\n",
       "      <td>469605</td>\n",
       "      <td>great</td>\n",
       "      <td>2021-03-20T05:36:31.311</td>\n",
       "      <td>True</td>\n",
       "      <td>False</td>\n",
       "      <td>False</td>\n",
       "    </tr>\n",
       "    <tr>\n",
       "      <th>3</th>\n",
       "      <td>maruti swift</td>\n",
       "      <td>2013</td>\n",
       "      <td>diesel</td>\n",
       "      <td>39124</td>\n",
       "      <td>307999</td>\n",
       "      <td>noida</td>\n",
       "      <td>6511</td>\n",
       "      <td>hatchback</td>\n",
       "      <td>manual</td>\n",
       "      <td>vdi</td>\n",
       "      <td>True</td>\n",
       "      <td>delhi</td>\n",
       "      <td>delhi</td>\n",
       "      <td>True</td>\n",
       "      <td>dl1c</td>\n",
       "      <td>inperson_sale</td>\n",
       "      <td>maruti</td>\n",
       "      <td>swift</td>\n",
       "      <td>in_stock</td>\n",
       "      <td>1</td>\n",
       "      <td>294262</td>\n",
       "      <td>great</td>\n",
       "      <td>2021-01-21T12:59:19.299</td>\n",
       "      <td>True</td>\n",
       "      <td>False</td>\n",
       "      <td>False</td>\n",
       "    </tr>\n",
       "    <tr>\n",
       "      <th>4</th>\n",
       "      <td>hyundai grand i10</td>\n",
       "      <td>2015</td>\n",
       "      <td>petrol</td>\n",
       "      <td>22116</td>\n",
       "      <td>361499</td>\n",
       "      <td>noida</td>\n",
       "      <td>3225</td>\n",
       "      <td>hatchback</td>\n",
       "      <td>manual</td>\n",
       "      <td>magna 1.2 vtvt</td>\n",
       "      <td>False</td>\n",
       "      <td>new delhi</td>\n",
       "      <td>delhi</td>\n",
       "      <td>True</td>\n",
       "      <td>dl12</td>\n",
       "      <td>inperson_sale</td>\n",
       "      <td>hyundai</td>\n",
       "      <td>grand i10</td>\n",
       "      <td>in_stock</td>\n",
       "      <td>1</td>\n",
       "      <td>360716</td>\n",
       "      <td>great</td>\n",
       "      <td>2021-04-01T13:33:40.733</td>\n",
       "      <td>True</td>\n",
       "      <td>False</td>\n",
       "      <td>False</td>\n",
       "    </tr>\n",
       "  </tbody>\n",
       "</table>\n",
       "</div>"
      ],
      "text/plain": [
       "            car_name  yr_mfr fuel_type  kms_run  sale_price   city  \\\n",
       "0       maruti swift    2015    petrol     8063      386399  noida   \n",
       "1    maruti alto 800    2016    petrol    23104      265499  noida   \n",
       "2  hyundai grand i10    2017    petrol    23402      477699  noida   \n",
       "3       maruti swift    2013    diesel    39124      307999  noida   \n",
       "4  hyundai grand i10    2015    petrol    22116      361499  noida   \n",
       "\n",
       "   times_viewed  body_type transmission          variant  assured_buy  \\\n",
       "0         18715  hatchback       manual          lxi opt         True   \n",
       "1          2676  hatchback       manual              lxi         True   \n",
       "2           609  hatchback       manual  sports 1.2 vtvt         True   \n",
       "3          6511  hatchback       manual              vdi         True   \n",
       "4          3225  hatchback       manual   magna 1.2 vtvt        False   \n",
       "\n",
       "  registered_city registered_state  is_hot   rto         source     make  \\\n",
       "0           delhi            delhi    True  dl6c  inperson_sale   maruti   \n",
       "1           noida    uttar pradesh    True  up16  inperson_sale   maruti   \n",
       "2            agra    uttar pradesh    True  up80  inperson_sale  hyundai   \n",
       "3           delhi            delhi    True  dl1c  inperson_sale   maruti   \n",
       "4       new delhi            delhi    True  dl12  inperson_sale  hyundai   \n",
       "\n",
       "       model car_availability  total_owners  broker_quote car_rating  \\\n",
       "0      swift         in_stock             2        397677      great   \n",
       "1   alto 800         in_stock             1        272935      great   \n",
       "2  grand i10         in_stock             1        469605      great   \n",
       "3      swift         in_stock             1        294262      great   \n",
       "4  grand i10         in_stock             1        360716      great   \n",
       "\n",
       "             ad_created_on fitness_certificate  reserved  warranty_avail  \n",
       "0  2021-04-04T07:09:18.583                True     False           False  \n",
       "1  2021-03-22T14:07:32.833                True     False           False  \n",
       "2  2021-03-20T05:36:31.311                True     False           False  \n",
       "3  2021-01-21T12:59:19.299                True     False           False  \n",
       "4  2021-04-01T13:33:40.733                True     False           False  "
      ]
     },
     "execution_count": 9,
     "metadata": {},
     "output_type": "execute_result"
    }
   ],
   "source": [
    "train.head()"
   ]
  },
  {
   "cell_type": "markdown",
   "metadata": {},
   "source": [
    "## Duplicate values"
   ]
  },
  {
   "cell_type": "code",
   "execution_count": 10,
   "metadata": {},
   "outputs": [
    {
     "data": {
      "text/plain": [
       "0"
      ]
     },
     "execution_count": 10,
     "metadata": {},
     "output_type": "execute_result"
    }
   ],
   "source": [
    "train.duplicated().sum()"
   ]
  },
  {
   "cell_type": "markdown",
   "metadata": {},
   "source": [
    "## Handling Null values"
   ]
  },
  {
   "cell_type": "code",
   "execution_count": 11,
   "metadata": {},
   "outputs": [
    {
     "data": {
      "text/plain": [
       "car_name                 0\n",
       "yr_mfr                   0\n",
       "fuel_type                0\n",
       "kms_run                  0\n",
       "sale_price               0\n",
       "city                     0\n",
       "times_viewed             0\n",
       "body_type               90\n",
       "transmission           474\n",
       "variant                  0\n",
       "assured_buy              0\n",
       "registered_city          8\n",
       "registered_state         8\n",
       "is_hot                   0\n",
       "rto                      0\n",
       "source                 114\n",
       "make                     0\n",
       "model                    0\n",
       "car_availability       542\n",
       "total_owners             0\n",
       "broker_quote             0\n",
       "car_rating               7\n",
       "ad_created_on            1\n",
       "fitness_certificate      8\n",
       "reserved                 0\n",
       "warranty_avail           0\n",
       "dtype: int64"
      ]
     },
     "execution_count": 11,
     "metadata": {},
     "output_type": "execute_result"
    }
   ],
   "source": [
    "# Checking null values\n",
    "\n",
    "train.isnull().sum()"
   ]
  },
  {
   "cell_type": "code",
   "execution_count": 12,
   "metadata": {},
   "outputs": [],
   "source": [
    "# Replacecing categorical data with mode values.\n",
    "\n",
    "for value in ['body_type', 'transmission', 'registered_city', 'registered_state', \n",
    "              'source', 'car_availability', 'car_rating', 'fitness_certificate']:\n",
    "    train[value].fillna(train[value].mode()[0], inplace = True)"
   ]
  },
  {
   "cell_type": "code",
   "execution_count": 13,
   "metadata": {},
   "outputs": [],
   "source": [
    "# replace missing value of ad_created_on using backward fill\n",
    "\n",
    "train = train.fillna(method=\"bfill\")"
   ]
  },
  {
   "cell_type": "code",
   "execution_count": 14,
   "metadata": {},
   "outputs": [
    {
     "data": {
      "text/plain": [
       "car_name               0\n",
       "yr_mfr                 0\n",
       "fuel_type              0\n",
       "kms_run                0\n",
       "sale_price             0\n",
       "city                   0\n",
       "times_viewed           0\n",
       "body_type              0\n",
       "transmission           0\n",
       "variant                0\n",
       "assured_buy            0\n",
       "registered_city        0\n",
       "registered_state       0\n",
       "is_hot                 0\n",
       "rto                    0\n",
       "source                 0\n",
       "make                   0\n",
       "model                  0\n",
       "car_availability       0\n",
       "total_owners           0\n",
       "broker_quote           0\n",
       "car_rating             0\n",
       "ad_created_on          0\n",
       "fitness_certificate    0\n",
       "reserved               0\n",
       "warranty_avail         0\n",
       "dtype: int64"
      ]
     },
     "execution_count": 14,
     "metadata": {},
     "output_type": "execute_result"
    }
   ],
   "source": [
    "train.isnull().sum()"
   ]
  },
  {
   "cell_type": "code",
   "execution_count": 15,
   "metadata": {},
   "outputs": [
    {
     "data": {
      "text/plain": [
       "body_type   \n",
       "hatchback       3888\n",
       "sedan           1261\n",
       "suv              946\n",
       "luxury suv       169\n",
       "luxury sedan     135\n",
       "dtype: int64"
      ]
     },
     "execution_count": 15,
     "metadata": {},
     "output_type": "execute_result"
    }
   ],
   "source": [
    "train.value_counts(['body_type'])"
   ]
  },
  {
   "cell_type": "code",
   "execution_count": 16,
   "metadata": {},
   "outputs": [
    {
     "data": {
      "text/plain": [
       "transmission\n",
       "manual          5855\n",
       "automatic        544\n",
       "dtype: int64"
      ]
     },
     "execution_count": 16,
     "metadata": {},
     "output_type": "execute_result"
    }
   ],
   "source": [
    "train.value_counts(['transmission'])"
   ]
  },
  {
   "cell_type": "code",
   "execution_count": 17,
   "metadata": {},
   "outputs": [
    {
     "data": {
      "text/plain": [
       "registered_city\n",
       "delhi              840\n",
       "bengaluru          570\n",
       "chennai            531\n",
       "hyderabad          512\n",
       "pune               504\n",
       "                  ... \n",
       "east godavari        1\n",
       "eluru                1\n",
       "etawah               1\n",
       "faizabad             1\n",
       "yavatmal             1\n",
       "Length: 230, dtype: int64"
      ]
     },
     "execution_count": 17,
     "metadata": {},
     "output_type": "execute_result"
    }
   ],
   "source": [
    "train.value_counts(['registered_city'])"
   ]
  },
  {
   "cell_type": "code",
   "execution_count": 18,
   "metadata": {},
   "outputs": [
    {
     "data": {
      "text/plain": [
       "registered_state\n",
       "maharashtra         1820\n",
       "delhi               1104\n",
       "karnataka           1068\n",
       "tamil nadu           625\n",
       "telangana            512\n",
       "haryana              486\n",
       "uttar pradesh        364\n",
       "gujarat              355\n",
       "andhra pradesh        33\n",
       "west bengal           21\n",
       "uttarakhand            3\n",
       "chandigarh             2\n",
       "chhattisgarh           2\n",
       "rajasthan              2\n",
       "jharkhand              1\n",
       "punjab                 1\n",
       "dtype: int64"
      ]
     },
     "execution_count": 18,
     "metadata": {},
     "output_type": "execute_result"
    }
   ],
   "source": [
    "train.value_counts(['registered_state'])"
   ]
  },
  {
   "cell_type": "code",
   "execution_count": 19,
   "metadata": {},
   "outputs": [
    {
     "data": {
      "text/plain": [
       "source              \n",
       "inperson_sale           6018\n",
       "online                   344\n",
       "customer_to_customer      37\n",
       "dtype: int64"
      ]
     },
     "execution_count": 19,
     "metadata": {},
     "output_type": "execute_result"
    }
   ],
   "source": [
    "train.value_counts(['source'])"
   ]
  },
  {
   "cell_type": "code",
   "execution_count": 20,
   "metadata": {},
   "outputs": [
    {
     "data": {
      "text/plain": [
       "car_availability\n",
       "in_stock            6146\n",
       "in_transit           193\n",
       "pickup_pending        38\n",
       "out_of_stock          22\n",
       "dtype: int64"
      ]
     },
     "execution_count": 20,
     "metadata": {},
     "output_type": "execute_result"
    }
   ],
   "source": [
    "train.value_counts(['car_availability'])"
   ]
  },
  {
   "cell_type": "code",
   "execution_count": 21,
   "metadata": {},
   "outputs": [
    {
     "data": {
      "text/plain": [
       "car_rating\n",
       "great         5454\n",
       "good           760\n",
       "fair           114\n",
       "overpriced      71\n",
       "dtype: int64"
      ]
     },
     "execution_count": 21,
     "metadata": {},
     "output_type": "execute_result"
    }
   ],
   "source": [
    "train.value_counts(['car_rating'])"
   ]
  },
  {
   "cell_type": "code",
   "execution_count": 22,
   "metadata": {},
   "outputs": [
    {
     "data": {
      "text/plain": [
       "ad_created_on          \n",
       "2020-07-26T06:04:55.876    2\n",
       "2019-02-20T14:13:30.464    1\n",
       "2021-03-24T09:02:48.818    1\n",
       "2021-03-24T10:02:05.108    1\n",
       "2021-03-24T10:00:48.898    1\n",
       "                          ..\n",
       "2021-02-27T11:17:08.446    1\n",
       "2021-02-27T11:07:38.485    1\n",
       "2021-02-27T11:06:28.267    1\n",
       "2021-02-27T10:40:13.495    1\n",
       "2021-05-30T15:19:17.393    1\n",
       "Length: 6398, dtype: int64"
      ]
     },
     "execution_count": 22,
     "metadata": {},
     "output_type": "execute_result"
    }
   ],
   "source": [
    "train.value_counts(['ad_created_on'])"
   ]
  },
  {
   "cell_type": "code",
   "execution_count": 23,
   "metadata": {},
   "outputs": [
    {
     "data": {
      "text/plain": [
       "fitness_certificate\n",
       "True                   6275\n",
       "False                   124\n",
       "dtype: int64"
      ]
     },
     "execution_count": 23,
     "metadata": {},
     "output_type": "execute_result"
    }
   ],
   "source": [
    "train.value_counts(['fitness_certificate'])"
   ]
  },
  {
   "cell_type": "markdown",
   "metadata": {},
   "source": [
    "## Checking outliers"
   ]
  },
  {
   "cell_type": "code",
   "execution_count": 24,
   "metadata": {},
   "outputs": [
    {
     "data": {
      "image/png": "[encoded data removed]",
      "text/plain": [
       "<Figure size 432x288 with 1 Axes>"
      ]
     },
     "metadata": {
      "needs_background": "light"
     },
     "output_type": "display_data"
    },
    {
     "data": {
      "image/png": "[encoded data removed]",
      "text/plain": [
       "<Figure size 432x288 with 1 Axes>"
      ]
     },
     "metadata": {
      "needs_background": "light"
     },
     "output_type": "display_data"
    },
    {
     "data": {
      "image/png": "[encoded data removed]",
      "text/plain": [
       "<Figure size 432x288 with 1 Axes>"
      ]
     },
     "metadata": {
      "needs_background": "light"
     },
     "output_type": "display_data"
    },
    {
     "data": {
      "image/png": "[encoded data removed]",
      "text/plain": [
       "<Figure size 432x288 with 1 Axes>"
      ]
     },
     "metadata": {
      "needs_background": "light"
     },
     "output_type": "display_data"
    },
    {
     "data": {
      "image/png": "[encoded data removed]",
      "text/plain": [
       "<Figure size 432x288 with 1 Axes>"
      ]
     },
     "metadata": {
      "needs_background": "light"
     },
     "output_type": "display_data"
    },
    {
     "data": {
      "image/png": "[encoded data removed]",
      "text/plain": [
       "<Figure size 432x288 with 1 Axes>"
      ]
     },
     "metadata": {
      "needs_background": "light"
     },
     "output_type": "display_data"
    },
    {
     "data": {
      "image/png": "[encoded data removed]",
      "text/plain": [
       "<Figure size 432x288 with 1 Axes>"
      ]
     },
     "metadata": {
      "needs_background": "light"
     },
     "output_type": "display_data"
    },
    {
     "data": {
      "image/png": "[encoded data removed]",
      "text/plain": [
       "<Figure size 432x288 with 1 Axes>"
      ]
     },
     "metadata": {
      "needs_background": "light"
     },
     "output_type": "display_data"
    },
    {
     "data": {
      "image/png": "[encoded data removed]",
      "text/plain": [
       "<Figure size 432x288 with 1 Axes>"
      ]
     },
     "metadata": {
      "needs_background": "light"
     },
     "output_type": "display_data"
    },
    {
     "data": {
      "image/png": "[encoded data removed]",
      "text/plain": [
       "<Figure size 432x288 with 1 Axes>"
      ]
     },
     "metadata": {
      "needs_background": "light"
     },
     "output_type": "display_data"
    },
    {
     "data": {
      "image/png": "[encoded data removed]",
      "text/plain": [
       "<Figure size 432x288 with 1 Axes>"
      ]
     },
     "metadata": {
      "needs_background": "light"
     },
     "output_type": "display_data"
    }
   ],
   "source": [
    "# Assumption : There should be no outliers\n",
    "# Check using Boxplot\n",
    "\n",
    "for x in train.columns:\n",
    "    if train[x].dtypes!=\"O\":\n",
    "        train.boxplot(column=x)\n",
    "        plt.show()"
   ]
  },
  {
   "cell_type": "code",
   "execution_count": 25,
   "metadata": {},
   "outputs": [
    {
     "data": {
      "text/plain": [
       "(6360, 26)"
      ]
     },
     "execution_count": 25,
     "metadata": {},
     "output_type": "execute_result"
    }
   ],
   "source": [
    "train = train[train['yr_mfr']>2005]\n",
    "train.shape"
   ]
  },
  {
   "cell_type": "code",
   "execution_count": 26,
   "metadata": {},
   "outputs": [
    {
     "data": {
      "text/plain": [
       "996609"
      ]
     },
     "execution_count": 26,
     "metadata": {},
     "output_type": "execute_result"
    }
   ],
   "source": [
    "max_km_run = train['kms_run'].max()\n",
    "max_km_run"
   ]
  },
  {
   "cell_type": "code",
   "execution_count": 27,
   "metadata": {},
   "outputs": [
    {
     "data": {
      "text/plain": [
       "(6359, 26)"
      ]
     },
     "execution_count": 27,
     "metadata": {},
     "output_type": "execute_result"
    }
   ],
   "source": [
    "train = train[train['kms_run']<max_km_run]\n",
    "train.shape"
   ]
  },
  {
   "cell_type": "code",
   "execution_count": 28,
   "metadata": {},
   "outputs": [
    {
     "data": {
      "text/plain": [
       "(6357, 26)"
      ]
     },
     "execution_count": 28,
     "metadata": {},
     "output_type": "execute_result"
    }
   ],
   "source": [
    "train = train[train['sale_price']<3000000]\n",
    "train.shape"
   ]
  },
  {
   "cell_type": "code",
   "execution_count": 29,
   "metadata": {},
   "outputs": [
    {
     "data": {
      "text/plain": [
       "(6350, 26)"
      ]
     },
     "execution_count": 29,
     "metadata": {},
     "output_type": "execute_result"
    }
   ],
   "source": [
    "train = train[train['times_viewed']<25000]\n",
    "train.shape"
   ]
  },
  {
   "cell_type": "code",
   "execution_count": 30,
   "metadata": {},
   "outputs": [],
   "source": [
    "# train = train[train['broker_quote']<3000000]\n",
    "# train.shape"
   ]
  },
  {
   "cell_type": "code",
   "execution_count": 31,
   "metadata": {},
   "outputs": [
    {
     "data": {
      "image/png": "[encoded data removed]",
      "text/plain": [
       "<Figure size 432x288 with 1 Axes>"
      ]
     },
     "metadata": {
      "needs_background": "light"
     },
     "output_type": "display_data"
    },
    {
     "data": {
      "image/png": "[encoded data removed]",
      "text/plain": [
       "<Figure size 432x288 with 1 Axes>"
      ]
     },
     "metadata": {
      "needs_background": "light"
     },
     "output_type": "display_data"
    },
    {
     "data": {
      "image/png": "[encoded data removed]",
      "text/plain": [
       "<Figure size 432x288 with 1 Axes>"
      ]
     },
     "metadata": {
      "needs_background": "light"
     },
     "output_type": "display_data"
    },
    {
     "data": {
      "image/png": "[encoded data removed]",
      "text/plain": [
       "<Figure size 432x288 with 1 Axes>"
      ]
     },
     "metadata": {
      "needs_background": "light"
     },
     "output_type": "display_data"
    },
    {
     "data": {
      "image/png": "[encoded data removed]",
      "text/plain": [
       "<Figure size 432x288 with 1 Axes>"
      ]
     },
     "metadata": {
      "needs_background": "light"
     },
     "output_type": "display_data"
    },
    {
     "data": {
      "image/png": "[encoded data removed]",
      "text/plain": [
       "<Figure size 432x288 with 1 Axes>"
      ]
     },
     "metadata": {
      "needs_background": "light"
     },
     "output_type": "display_data"
    },
    {
     "data": {
      "image/png": "[encoded data removed]",
      "text/plain": [
       "<Figure size 432x288 with 1 Axes>"
      ]
     },
     "metadata": {
      "needs_background": "light"
     },
     "output_type": "display_data"
    },
    {
     "data": {
      "image/png": "[encoded data removed]",
      "text/plain": [
       "<Figure size 432x288 with 1 Axes>"
      ]
     },
     "metadata": {
      "needs_background": "light"
     },
     "output_type": "display_data"
    },
    {
     "data": {
      "image/png": "[encoded data removed]",
      "text/plain": [
       "<Figure size 432x288 with 1 Axes>"
      ]
     },
     "metadata": {
      "needs_background": "light"
     },
     "output_type": "display_data"
    },
    {
     "data": {
      "image/png": "[encoded data removed]",
      "text/plain": [
       "<Figure size 432x288 with 1 Axes>"
      ]
     },
     "metadata": {
      "needs_background": "light"
     },
     "output_type": "display_data"
    },
    {
     "data": {
      "image/png": "[encoded data removed]",
      "text/plain": [
       "<Figure size 432x288 with 1 Axes>"
      ]
     },
     "metadata": {
      "needs_background": "light"
     },
     "output_type": "display_data"
    }
   ],
   "source": [
    "# Removed all outliers\n",
    "\n",
    "for x in train.columns:\n",
    "    if train[x].dtypes!=\"O\":\n",
    "        train.boxplot(column=x)\n",
    "        plt.show()"
   ]
  },
  {
   "cell_type": "markdown",
   "metadata": {},
   "source": [
    "## Test data"
   ]
  },
  {
   "cell_type": "code",
   "execution_count": 32,
   "metadata": {},
   "outputs": [
    {
     "data": {
      "text/html": [
       "<div>\n",
       "<style scoped>\n",
       "    .dataframe tbody tr th:only-of-type {\n",
       "        vertical-align: middle;\n",
       "    }\n",
       "\n",
       "    .dataframe tbody tr th {\n",
       "        vertical-align: top;\n",
       "    }\n",
       "\n",
       "    .dataframe thead th {\n",
       "        text-align: right;\n",
       "    }\n",
       "</style>\n",
       "<table border=\"1\" class=\"dataframe\">\n",
       "  <thead>\n",
       "    <tr style=\"text-align: right;\">\n",
       "      <th></th>\n",
       "      <th>id</th>\n",
       "      <th>car_name</th>\n",
       "      <th>yr_mfr</th>\n",
       "      <th>fuel_type</th>\n",
       "      <th>kms_run</th>\n",
       "      <th>sale_price</th>\n",
       "      <th>city</th>\n",
       "      <th>times_viewed</th>\n",
       "      <th>body_type</th>\n",
       "      <th>transmission</th>\n",
       "      <th>variant</th>\n",
       "      <th>assured_buy</th>\n",
       "      <th>registered_city</th>\n",
       "      <th>registered_state</th>\n",
       "      <th>is_hot</th>\n",
       "      <th>rto</th>\n",
       "      <th>source</th>\n",
       "      <th>make</th>\n",
       "      <th>model</th>\n",
       "      <th>car_availability</th>\n",
       "      <th>total_owners</th>\n",
       "      <th>broker_quote</th>\n",
       "      <th>original_price</th>\n",
       "      <th>car_rating</th>\n",
       "      <th>ad_created_on</th>\n",
       "      <th>fitness_certificate</th>\n",
       "      <th>emi_starts_from</th>\n",
       "      <th>booking_down_pymnt</th>\n",
       "      <th>reserved</th>\n",
       "      <th>warranty_avail</th>\n",
       "    </tr>\n",
       "  </thead>\n",
       "  <tbody>\n",
       "    <tr>\n",
       "      <th>0</th>\n",
       "      <td>1</td>\n",
       "      <td>maruti swift dzire</td>\n",
       "      <td>2012</td>\n",
       "      <td>petrol</td>\n",
       "      <td>69029</td>\n",
       "      <td>364299</td>\n",
       "      <td>pune</td>\n",
       "      <td>2068</td>\n",
       "      <td>sedan</td>\n",
       "      <td>manual</td>\n",
       "      <td>vxi 1.2 bs iv</td>\n",
       "      <td>True</td>\n",
       "      <td>pune</td>\n",
       "      <td>maharashtra</td>\n",
       "      <td>True</td>\n",
       "      <td>mh12</td>\n",
       "      <td>inperson_sale</td>\n",
       "      <td>maruti</td>\n",
       "      <td>swift dzire</td>\n",
       "      <td>in_stock</td>\n",
       "      <td>3</td>\n",
       "      <td>363529</td>\n",
       "      <td>365029.0</td>\n",
       "      <td>great</td>\n",
       "      <td>2021-03-16T05:00:49.555</td>\n",
       "      <td>True</td>\n",
       "      <td>8462</td>\n",
       "      <td>54645</td>\n",
       "      <td>False</td>\n",
       "      <td>False</td>\n",
       "    </tr>\n",
       "    <tr>\n",
       "      <th>1</th>\n",
       "      <td>2</td>\n",
       "      <td>hyundai eon</td>\n",
       "      <td>2013</td>\n",
       "      <td>petrol</td>\n",
       "      <td>45721</td>\n",
       "      <td>216799</td>\n",
       "      <td>gurgaon</td>\n",
       "      <td>903</td>\n",
       "      <td>hatchback</td>\n",
       "      <td>manual</td>\n",
       "      <td>era plus</td>\n",
       "      <td>True</td>\n",
       "      <td>delhi</td>\n",
       "      <td>delhi</td>\n",
       "      <td>True</td>\n",
       "      <td>dl7c</td>\n",
       "      <td>inperson_sale</td>\n",
       "      <td>hyundai</td>\n",
       "      <td>eon</td>\n",
       "      <td>in_stock</td>\n",
       "      <td>1</td>\n",
       "      <td>205738</td>\n",
       "      <td>NaN</td>\n",
       "      <td>great</td>\n",
       "      <td>2021-03-10T12:08:11.905</td>\n",
       "      <td>True</td>\n",
       "      <td>5036</td>\n",
       "      <td>32520</td>\n",
       "      <td>False</td>\n",
       "      <td>False</td>\n",
       "    </tr>\n",
       "    <tr>\n",
       "      <th>2</th>\n",
       "      <td>3</td>\n",
       "      <td>honda amaze</td>\n",
       "      <td>2013</td>\n",
       "      <td>diesel</td>\n",
       "      <td>37395</td>\n",
       "      <td>387399</td>\n",
       "      <td>pune</td>\n",
       "      <td>2809</td>\n",
       "      <td>sedan</td>\n",
       "      <td>manual</td>\n",
       "      <td>1.5 smt i dtec</td>\n",
       "      <td>True</td>\n",
       "      <td>mumbai</td>\n",
       "      <td>maharashtra</td>\n",
       "      <td>True</td>\n",
       "      <td>mh02</td>\n",
       "      <td>inperson_sale</td>\n",
       "      <td>honda</td>\n",
       "      <td>amaze</td>\n",
       "      <td>in_stock</td>\n",
       "      <td>1</td>\n",
       "      <td>382667</td>\n",
       "      <td>NaN</td>\n",
       "      <td>great</td>\n",
       "      <td>2021-03-15T12:03:30.041</td>\n",
       "      <td>True</td>\n",
       "      <td>8998</td>\n",
       "      <td>58110</td>\n",
       "      <td>True</td>\n",
       "      <td>False</td>\n",
       "    </tr>\n",
       "    <tr>\n",
       "      <th>3</th>\n",
       "      <td>4</td>\n",
       "      <td>hyundai i20</td>\n",
       "      <td>2012</td>\n",
       "      <td>petrol</td>\n",
       "      <td>37652</td>\n",
       "      <td>364699</td>\n",
       "      <td>bengaluru</td>\n",
       "      <td>1054</td>\n",
       "      <td>hatchback</td>\n",
       "      <td>manual</td>\n",
       "      <td>magna o 1.2</td>\n",
       "      <td>True</td>\n",
       "      <td>bengaluru</td>\n",
       "      <td>karnataka</td>\n",
       "      <td>True</td>\n",
       "      <td>ka53</td>\n",
       "      <td>inperson_sale</td>\n",
       "      <td>hyundai</td>\n",
       "      <td>i20</td>\n",
       "      <td>in_transit</td>\n",
       "      <td>3</td>\n",
       "      <td>335740</td>\n",
       "      <td>NaN</td>\n",
       "      <td>great</td>\n",
       "      <td>2021-04-09T11:16:26.157</td>\n",
       "      <td>True</td>\n",
       "      <td>8471</td>\n",
       "      <td>54705</td>\n",
       "      <td>True</td>\n",
       "      <td>False</td>\n",
       "    </tr>\n",
       "    <tr>\n",
       "      <th>4</th>\n",
       "      <td>5</td>\n",
       "      <td>hyundai creta</td>\n",
       "      <td>2017</td>\n",
       "      <td>diesel</td>\n",
       "      <td>53648</td>\n",
       "      <td>1082011</td>\n",
       "      <td>lucknow</td>\n",
       "      <td>2927</td>\n",
       "      <td>suv</td>\n",
       "      <td>automatic</td>\n",
       "      <td>1.6 crdi sx plus auto</td>\n",
       "      <td>True</td>\n",
       "      <td>lucknow</td>\n",
       "      <td>uttar pradesh</td>\n",
       "      <td>True</td>\n",
       "      <td>up32</td>\n",
       "      <td>inperson_sale</td>\n",
       "      <td>hyundai</td>\n",
       "      <td>creta</td>\n",
       "      <td>in_stock</td>\n",
       "      <td>1</td>\n",
       "      <td>1119840</td>\n",
       "      <td>1125840.0</td>\n",
       "      <td>great</td>\n",
       "      <td>2021-04-01T07:24:31.712</td>\n",
       "      <td>True</td>\n",
       "      <td>25132</td>\n",
       "      <td>162302</td>\n",
       "      <td>False</td>\n",
       "      <td>False</td>\n",
       "    </tr>\n",
       "  </tbody>\n",
       "</table>\n",
       "</div>"
      ],
      "text/plain": [
       "   id            car_name  yr_mfr fuel_type  kms_run  sale_price       city  \\\n",
       "0   1  maruti swift dzire    2012    petrol    69029      364299       pune   \n",
       "1   2         hyundai eon    2013    petrol    45721      216799    gurgaon   \n",
       "2   3         honda amaze    2013    diesel    37395      387399       pune   \n",
       "3   4         hyundai i20    2012    petrol    37652      364699  bengaluru   \n",
       "4   5       hyundai creta    2017    diesel    53648     1082011    lucknow   \n",
       "\n",
       "   times_viewed  body_type transmission                variant  assured_buy  \\\n",
       "0          2068      sedan       manual          vxi 1.2 bs iv         True   \n",
       "1           903  hatchback       manual               era plus         True   \n",
       "2          2809      sedan       manual         1.5 smt i dtec         True   \n",
       "3          1054  hatchback       manual            magna o 1.2         True   \n",
       "4          2927        suv    automatic  1.6 crdi sx plus auto         True   \n",
       "\n",
       "  registered_city registered_state  is_hot   rto         source     make  \\\n",
       "0            pune      maharashtra    True  mh12  inperson_sale   maruti   \n",
       "1           delhi            delhi    True  dl7c  inperson_sale  hyundai   \n",
       "2          mumbai      maharashtra    True  mh02  inperson_sale    honda   \n",
       "3       bengaluru        karnataka    True  ka53  inperson_sale  hyundai   \n",
       "4         lucknow    uttar pradesh    True  up32  inperson_sale  hyundai   \n",
       "\n",
       "         model car_availability  total_owners  broker_quote  original_price  \\\n",
       "0  swift dzire         in_stock             3        363529        365029.0   \n",
       "1          eon         in_stock             1        205738             NaN   \n",
       "2        amaze         in_stock             1        382667             NaN   \n",
       "3          i20       in_transit             3        335740             NaN   \n",
       "4        creta         in_stock             1       1119840       1125840.0   \n",
       "\n",
       "  car_rating            ad_created_on  fitness_certificate  emi_starts_from  \\\n",
       "0      great  2021-03-16T05:00:49.555                 True             8462   \n",
       "1      great  2021-03-10T12:08:11.905                 True             5036   \n",
       "2      great  2021-03-15T12:03:30.041                 True             8998   \n",
       "3      great  2021-04-09T11:16:26.157                 True             8471   \n",
       "4      great  2021-04-01T07:24:31.712                 True            25132   \n",
       "\n",
       "   booking_down_pymnt  reserved  warranty_avail  \n",
       "0               54645     False           False  \n",
       "1               32520     False           False  \n",
       "2               58110      True           False  \n",
       "3               54705      True           False  \n",
       "4              162302     False           False  "
      ]
     },
     "execution_count": 32,
     "metadata": {},
     "output_type": "execute_result"
    }
   ],
   "source": [
    "test = pd.read_csv(r'test.csv', header = 0)\n",
    "test.head()"
   ]
  },
  {
   "cell_type": "code",
   "execution_count": 33,
   "metadata": {},
   "outputs": [
    {
     "name": "stdout",
     "output_type": "stream",
     "text": [
      "(1000, 30)\n",
      "id                       int64\n",
      "car_name                object\n",
      "yr_mfr                   int64\n",
      "fuel_type               object\n",
      "kms_run                  int64\n",
      "sale_price               int64\n",
      "city                    object\n",
      "times_viewed             int64\n",
      "body_type               object\n",
      "transmission            object\n",
      "variant                 object\n",
      "assured_buy               bool\n",
      "registered_city         object\n",
      "registered_state        object\n",
      "is_hot                    bool\n",
      "rto                     object\n",
      "source                  object\n",
      "make                    object\n",
      "model                   object\n",
      "car_availability        object\n",
      "total_owners             int64\n",
      "broker_quote             int64\n",
      "original_price         float64\n",
      "car_rating              object\n",
      "ad_created_on           object\n",
      "fitness_certificate       bool\n",
      "emi_starts_from          int64\n",
      "booking_down_pymnt       int64\n",
      "reserved                  bool\n",
      "warranty_avail            bool\n",
      "dtype: object\n"
     ]
    }
   ],
   "source": [
    "print(test.shape)\n",
    "print(test.dtypes)"
   ]
  },
  {
   "cell_type": "code",
   "execution_count": 34,
   "metadata": {
    "scrolled": true
   },
   "outputs": [
    {
     "data": {
      "text/html": [
       "<div>\n",
       "<style scoped>\n",
       "    .dataframe tbody tr th:only-of-type {\n",
       "        vertical-align: middle;\n",
       "    }\n",
       "\n",
       "    .dataframe tbody tr th {\n",
       "        vertical-align: top;\n",
       "    }\n",
       "\n",
       "    .dataframe thead th {\n",
       "        text-align: right;\n",
       "    }\n",
       "</style>\n",
       "<table border=\"1\" class=\"dataframe\">\n",
       "  <thead>\n",
       "    <tr style=\"text-align: right;\">\n",
       "      <th></th>\n",
       "      <th>id</th>\n",
       "      <th>yr_mfr</th>\n",
       "      <th>kms_run</th>\n",
       "      <th>sale_price</th>\n",
       "      <th>times_viewed</th>\n",
       "      <th>total_owners</th>\n",
       "      <th>broker_quote</th>\n",
       "      <th>original_price</th>\n",
       "      <th>emi_starts_from</th>\n",
       "      <th>booking_down_pymnt</th>\n",
       "    </tr>\n",
       "  </thead>\n",
       "  <tbody>\n",
       "    <tr>\n",
       "      <th>count</th>\n",
       "      <td>1000.000000</td>\n",
       "      <td>1000.00000</td>\n",
       "      <td>1000.000000</td>\n",
       "      <td>1.000000e+03</td>\n",
       "      <td>1000.000000</td>\n",
       "      <td>1000.000000</td>\n",
       "      <td>1.000000e+03</td>\n",
       "      <td>5.450000e+02</td>\n",
       "      <td>1000.000000</td>\n",
       "      <td>1000.000000</td>\n",
       "    </tr>\n",
       "    <tr>\n",
       "      <th>mean</th>\n",
       "      <td>500.500000</td>\n",
       "      <td>2013.81700</td>\n",
       "      <td>64200.546000</td>\n",
       "      <td>4.564917e+05</td>\n",
       "      <td>1649.047000</td>\n",
       "      <td>1.336000</td>\n",
       "      <td>4.340296e+05</td>\n",
       "      <td>5.529012e+05</td>\n",
       "      <td>10603.155000</td>\n",
       "      <td>68473.909000</td>\n",
       "    </tr>\n",
       "    <tr>\n",
       "      <th>std</th>\n",
       "      <td>288.819436</td>\n",
       "      <td>3.08367</td>\n",
       "      <td>46279.250371</td>\n",
       "      <td>3.116202e+05</td>\n",
       "      <td>2703.996647</td>\n",
       "      <td>0.611128</td>\n",
       "      <td>3.049773e+05</td>\n",
       "      <td>3.159273e+05</td>\n",
       "      <td>7238.156858</td>\n",
       "      <td>46743.080291</td>\n",
       "    </tr>\n",
       "    <tr>\n",
       "      <th>min</th>\n",
       "      <td>1.000000</td>\n",
       "      <td>2002.00000</td>\n",
       "      <td>379.000000</td>\n",
       "      <td>3.500000e+04</td>\n",
       "      <td>6.000000</td>\n",
       "      <td>1.000000</td>\n",
       "      <td>0.000000e+00</td>\n",
       "      <td>9.689900e+04</td>\n",
       "      <td>813.000000</td>\n",
       "      <td>5250.000000</td>\n",
       "    </tr>\n",
       "    <tr>\n",
       "      <th>25%</th>\n",
       "      <td>250.750000</td>\n",
       "      <td>2012.00000</td>\n",
       "      <td>33159.500000</td>\n",
       "      <td>2.727740e+05</td>\n",
       "      <td>556.000000</td>\n",
       "      <td>1.000000</td>\n",
       "      <td>2.464942e+05</td>\n",
       "      <td>3.304990e+05</td>\n",
       "      <td>6336.000000</td>\n",
       "      <td>40916.250000</td>\n",
       "    </tr>\n",
       "    <tr>\n",
       "      <th>50%</th>\n",
       "      <td>500.500000</td>\n",
       "      <td>2014.00000</td>\n",
       "      <td>56880.000000</td>\n",
       "      <td>3.836490e+05</td>\n",
       "      <td>1155.500000</td>\n",
       "      <td>1.000000</td>\n",
       "      <td>3.618295e+05</td>\n",
       "      <td>4.688120e+05</td>\n",
       "      <td>8911.000000</td>\n",
       "      <td>57547.500000</td>\n",
       "    </tr>\n",
       "    <tr>\n",
       "      <th>75%</th>\n",
       "      <td>750.250000</td>\n",
       "      <td>2016.00000</td>\n",
       "      <td>84372.500000</td>\n",
       "      <td>5.433740e+05</td>\n",
       "      <td>2036.500000</td>\n",
       "      <td>2.000000</td>\n",
       "      <td>5.267560e+05</td>\n",
       "      <td>6.912220e+05</td>\n",
       "      <td>12621.250000</td>\n",
       "      <td>81506.250000</td>\n",
       "    </tr>\n",
       "    <tr>\n",
       "      <th>max</th>\n",
       "      <td>1000.000000</td>\n",
       "      <td>2020.00000</td>\n",
       "      <td>640251.000000</td>\n",
       "      <td>3.866000e+06</td>\n",
       "      <td>61930.000000</td>\n",
       "      <td>5.000000</td>\n",
       "      <td>3.250000e+06</td>\n",
       "      <td>2.706469e+06</td>\n",
       "      <td>89798.000000</td>\n",
       "      <td>579901.000000</td>\n",
       "    </tr>\n",
       "  </tbody>\n",
       "</table>\n",
       "</div>"
      ],
      "text/plain": [
       "                id      yr_mfr        kms_run    sale_price  times_viewed  \\\n",
       "count  1000.000000  1000.00000    1000.000000  1.000000e+03   1000.000000   \n",
       "mean    500.500000  2013.81700   64200.546000  4.564917e+05   1649.047000   \n",
       "std     288.819436     3.08367   46279.250371  3.116202e+05   2703.996647   \n",
       "min       1.000000  2002.00000     379.000000  3.500000e+04      6.000000   \n",
       "25%     250.750000  2012.00000   33159.500000  2.727740e+05    556.000000   \n",
       "50%     500.500000  2014.00000   56880.000000  3.836490e+05   1155.500000   \n",
       "75%     750.250000  2016.00000   84372.500000  5.433740e+05   2036.500000   \n",
       "max    1000.000000  2020.00000  640251.000000  3.866000e+06  61930.000000   \n",
       "\n",
       "       total_owners  broker_quote  original_price  emi_starts_from  \\\n",
       "count   1000.000000  1.000000e+03    5.450000e+02      1000.000000   \n",
       "mean       1.336000  4.340296e+05    5.529012e+05     10603.155000   \n",
       "std        0.611128  3.049773e+05    3.159273e+05      7238.156858   \n",
       "min        1.000000  0.000000e+00    9.689900e+04       813.000000   \n",
       "25%        1.000000  2.464942e+05    3.304990e+05      6336.000000   \n",
       "50%        1.000000  3.618295e+05    4.688120e+05      8911.000000   \n",
       "75%        2.000000  5.267560e+05    6.912220e+05     12621.250000   \n",
       "max        5.000000  3.250000e+06    2.706469e+06     89798.000000   \n",
       "\n",
       "       booking_down_pymnt  \n",
       "count         1000.000000  \n",
       "mean         68473.909000  \n",
       "std          46743.080291  \n",
       "min           5250.000000  \n",
       "25%          40916.250000  \n",
       "50%          57547.500000  \n",
       "75%          81506.250000  \n",
       "max         579901.000000  "
      ]
     },
     "execution_count": 34,
     "metadata": {},
     "output_type": "execute_result"
    }
   ],
   "source": [
    "test.describe()"
   ]
  },
  {
   "cell_type": "markdown",
   "metadata": {},
   "source": [
    "## We removed some columns in train data so we remove same columns in test data also"
   ]
  },
  {
   "cell_type": "code",
   "execution_count": 35,
   "metadata": {},
   "outputs": [
    {
     "data": {
      "text/html": [
       "<div>\n",
       "<style scoped>\n",
       "    .dataframe tbody tr th:only-of-type {\n",
       "        vertical-align: middle;\n",
       "    }\n",
       "\n",
       "    .dataframe tbody tr th {\n",
       "        vertical-align: top;\n",
       "    }\n",
       "\n",
       "    .dataframe thead th {\n",
       "        text-align: right;\n",
       "    }\n",
       "</style>\n",
       "<table border=\"1\" class=\"dataframe\">\n",
       "  <thead>\n",
       "    <tr style=\"text-align: right;\">\n",
       "      <th></th>\n",
       "      <th>car_name</th>\n",
       "      <th>yr_mfr</th>\n",
       "      <th>fuel_type</th>\n",
       "      <th>kms_run</th>\n",
       "      <th>sale_price</th>\n",
       "      <th>city</th>\n",
       "      <th>times_viewed</th>\n",
       "      <th>body_type</th>\n",
       "      <th>transmission</th>\n",
       "      <th>variant</th>\n",
       "      <th>assured_buy</th>\n",
       "      <th>registered_city</th>\n",
       "      <th>registered_state</th>\n",
       "      <th>is_hot</th>\n",
       "      <th>rto</th>\n",
       "      <th>source</th>\n",
       "      <th>make</th>\n",
       "      <th>model</th>\n",
       "      <th>car_availability</th>\n",
       "      <th>total_owners</th>\n",
       "      <th>broker_quote</th>\n",
       "      <th>car_rating</th>\n",
       "      <th>ad_created_on</th>\n",
       "      <th>fitness_certificate</th>\n",
       "      <th>reserved</th>\n",
       "      <th>warranty_avail</th>\n",
       "    </tr>\n",
       "  </thead>\n",
       "  <tbody>\n",
       "    <tr>\n",
       "      <th>0</th>\n",
       "      <td>maruti swift dzire</td>\n",
       "      <td>2012</td>\n",
       "      <td>petrol</td>\n",
       "      <td>69029</td>\n",
       "      <td>364299</td>\n",
       "      <td>pune</td>\n",
       "      <td>2068</td>\n",
       "      <td>sedan</td>\n",
       "      <td>manual</td>\n",
       "      <td>vxi 1.2 bs iv</td>\n",
       "      <td>True</td>\n",
       "      <td>pune</td>\n",
       "      <td>maharashtra</td>\n",
       "      <td>True</td>\n",
       "      <td>mh12</td>\n",
       "      <td>inperson_sale</td>\n",
       "      <td>maruti</td>\n",
       "      <td>swift dzire</td>\n",
       "      <td>in_stock</td>\n",
       "      <td>3</td>\n",
       "      <td>363529</td>\n",
       "      <td>great</td>\n",
       "      <td>2021-03-16T05:00:49.555</td>\n",
       "      <td>True</td>\n",
       "      <td>False</td>\n",
       "      <td>False</td>\n",
       "    </tr>\n",
       "    <tr>\n",
       "      <th>1</th>\n",
       "      <td>hyundai eon</td>\n",
       "      <td>2013</td>\n",
       "      <td>petrol</td>\n",
       "      <td>45721</td>\n",
       "      <td>216799</td>\n",
       "      <td>gurgaon</td>\n",
       "      <td>903</td>\n",
       "      <td>hatchback</td>\n",
       "      <td>manual</td>\n",
       "      <td>era plus</td>\n",
       "      <td>True</td>\n",
       "      <td>delhi</td>\n",
       "      <td>delhi</td>\n",
       "      <td>True</td>\n",
       "      <td>dl7c</td>\n",
       "      <td>inperson_sale</td>\n",
       "      <td>hyundai</td>\n",
       "      <td>eon</td>\n",
       "      <td>in_stock</td>\n",
       "      <td>1</td>\n",
       "      <td>205738</td>\n",
       "      <td>great</td>\n",
       "      <td>2021-03-10T12:08:11.905</td>\n",
       "      <td>True</td>\n",
       "      <td>False</td>\n",
       "      <td>False</td>\n",
       "    </tr>\n",
       "    <tr>\n",
       "      <th>2</th>\n",
       "      <td>honda amaze</td>\n",
       "      <td>2013</td>\n",
       "      <td>diesel</td>\n",
       "      <td>37395</td>\n",
       "      <td>387399</td>\n",
       "      <td>pune</td>\n",
       "      <td>2809</td>\n",
       "      <td>sedan</td>\n",
       "      <td>manual</td>\n",
       "      <td>1.5 smt i dtec</td>\n",
       "      <td>True</td>\n",
       "      <td>mumbai</td>\n",
       "      <td>maharashtra</td>\n",
       "      <td>True</td>\n",
       "      <td>mh02</td>\n",
       "      <td>inperson_sale</td>\n",
       "      <td>honda</td>\n",
       "      <td>amaze</td>\n",
       "      <td>in_stock</td>\n",
       "      <td>1</td>\n",
       "      <td>382667</td>\n",
       "      <td>great</td>\n",
       "      <td>2021-03-15T12:03:30.041</td>\n",
       "      <td>True</td>\n",
       "      <td>True</td>\n",
       "      <td>False</td>\n",
       "    </tr>\n",
       "    <tr>\n",
       "      <th>3</th>\n",
       "      <td>hyundai i20</td>\n",
       "      <td>2012</td>\n",
       "      <td>petrol</td>\n",
       "      <td>37652</td>\n",
       "      <td>364699</td>\n",
       "      <td>bengaluru</td>\n",
       "      <td>1054</td>\n",
       "      <td>hatchback</td>\n",
       "      <td>manual</td>\n",
       "      <td>magna o 1.2</td>\n",
       "      <td>True</td>\n",
       "      <td>bengaluru</td>\n",
       "      <td>karnataka</td>\n",
       "      <td>True</td>\n",
       "      <td>ka53</td>\n",
       "      <td>inperson_sale</td>\n",
       "      <td>hyundai</td>\n",
       "      <td>i20</td>\n",
       "      <td>in_transit</td>\n",
       "      <td>3</td>\n",
       "      <td>335740</td>\n",
       "      <td>great</td>\n",
       "      <td>2021-04-09T11:16:26.157</td>\n",
       "      <td>True</td>\n",
       "      <td>True</td>\n",
       "      <td>False</td>\n",
       "    </tr>\n",
       "    <tr>\n",
       "      <th>4</th>\n",
       "      <td>hyundai creta</td>\n",
       "      <td>2017</td>\n",
       "      <td>diesel</td>\n",
       "      <td>53648</td>\n",
       "      <td>1082011</td>\n",
       "      <td>lucknow</td>\n",
       "      <td>2927</td>\n",
       "      <td>suv</td>\n",
       "      <td>automatic</td>\n",
       "      <td>1.6 crdi sx plus auto</td>\n",
       "      <td>True</td>\n",
       "      <td>lucknow</td>\n",
       "      <td>uttar pradesh</td>\n",
       "      <td>True</td>\n",
       "      <td>up32</td>\n",
       "      <td>inperson_sale</td>\n",
       "      <td>hyundai</td>\n",
       "      <td>creta</td>\n",
       "      <td>in_stock</td>\n",
       "      <td>1</td>\n",
       "      <td>1119840</td>\n",
       "      <td>great</td>\n",
       "      <td>2021-04-01T07:24:31.712</td>\n",
       "      <td>True</td>\n",
       "      <td>False</td>\n",
       "      <td>False</td>\n",
       "    </tr>\n",
       "  </tbody>\n",
       "</table>\n",
       "</div>"
      ],
      "text/plain": [
       "             car_name  yr_mfr fuel_type  kms_run  sale_price       city  \\\n",
       "0  maruti swift dzire    2012    petrol    69029      364299       pune   \n",
       "1         hyundai eon    2013    petrol    45721      216799    gurgaon   \n",
       "2         honda amaze    2013    diesel    37395      387399       pune   \n",
       "3         hyundai i20    2012    petrol    37652      364699  bengaluru   \n",
       "4       hyundai creta    2017    diesel    53648     1082011    lucknow   \n",
       "\n",
       "   times_viewed  body_type transmission                variant  assured_buy  \\\n",
       "0          2068      sedan       manual          vxi 1.2 bs iv         True   \n",
       "1           903  hatchback       manual               era plus         True   \n",
       "2          2809      sedan       manual         1.5 smt i dtec         True   \n",
       "3          1054  hatchback       manual            magna o 1.2         True   \n",
       "4          2927        suv    automatic  1.6 crdi sx plus auto         True   \n",
       "\n",
       "  registered_city registered_state  is_hot   rto         source     make  \\\n",
       "0            pune      maharashtra    True  mh12  inperson_sale   maruti   \n",
       "1           delhi            delhi    True  dl7c  inperson_sale  hyundai   \n",
       "2          mumbai      maharashtra    True  mh02  inperson_sale    honda   \n",
       "3       bengaluru        karnataka    True  ka53  inperson_sale  hyundai   \n",
       "4         lucknow    uttar pradesh    True  up32  inperson_sale  hyundai   \n",
       "\n",
       "         model car_availability  total_owners  broker_quote car_rating  \\\n",
       "0  swift dzire         in_stock             3        363529      great   \n",
       "1          eon         in_stock             1        205738      great   \n",
       "2        amaze         in_stock             1        382667      great   \n",
       "3          i20       in_transit             3        335740      great   \n",
       "4        creta         in_stock             1       1119840      great   \n",
       "\n",
       "             ad_created_on  fitness_certificate  reserved  warranty_avail  \n",
       "0  2021-03-16T05:00:49.555                 True     False           False  \n",
       "1  2021-03-10T12:08:11.905                 True     False           False  \n",
       "2  2021-03-15T12:03:30.041                 True      True           False  \n",
       "3  2021-04-09T11:16:26.157                 True      True           False  \n",
       "4  2021-04-01T07:24:31.712                 True     False           False  "
      ]
     },
     "execution_count": 35,
     "metadata": {},
     "output_type": "execute_result"
    }
   ],
   "source": [
    "test = test.drop(columns = ['original_price', 'emi_starts_from', 'booking_down_pymnt', 'id'], axis = 1)\n",
    "test.head()"
   ]
  },
  {
   "cell_type": "code",
   "execution_count": 36,
   "metadata": {},
   "outputs": [
    {
     "data": {
      "text/plain": [
       "(1000, 26)"
      ]
     },
     "execution_count": 36,
     "metadata": {},
     "output_type": "execute_result"
    }
   ],
   "source": [
    "test.shape"
   ]
  },
  {
   "cell_type": "code",
   "execution_count": 37,
   "metadata": {},
   "outputs": [
    {
     "data": {
      "text/plain": [
       "(6350, 26)"
      ]
     },
     "execution_count": 37,
     "metadata": {},
     "output_type": "execute_result"
    }
   ],
   "source": [
    "train.shape"
   ]
  },
  {
   "cell_type": "markdown",
   "metadata": {},
   "source": [
    "## handling missing values"
   ]
  },
  {
   "cell_type": "code",
   "execution_count": 38,
   "metadata": {},
   "outputs": [
    {
     "data": {
      "text/plain": [
       "car_name                0\n",
       "yr_mfr                  0\n",
       "fuel_type               0\n",
       "kms_run                 0\n",
       "sale_price              0\n",
       "city                    0\n",
       "times_viewed            0\n",
       "body_type              13\n",
       "transmission           82\n",
       "variant                 0\n",
       "assured_buy             0\n",
       "registered_city         2\n",
       "registered_state        2\n",
       "is_hot                  0\n",
       "rto                     0\n",
       "source                 12\n",
       "make                    0\n",
       "model                   0\n",
       "car_availability       78\n",
       "total_owners            0\n",
       "broker_quote            0\n",
       "car_rating              2\n",
       "ad_created_on           0\n",
       "fitness_certificate     0\n",
       "reserved                0\n",
       "warranty_avail          0\n",
       "dtype: int64"
      ]
     },
     "execution_count": 38,
     "metadata": {},
     "output_type": "execute_result"
    }
   ],
   "source": [
    "test.isnull().sum()"
   ]
  },
  {
   "cell_type": "code",
   "execution_count": 39,
   "metadata": {},
   "outputs": [],
   "source": [
    "# Replacecing categorical data with mode values.\n",
    "\n",
    "for value in ['body_type', 'transmission', 'registered_city', 'registered_state', \n",
    "              'source', 'car_availability', 'car_rating']:\n",
    "    test[value].fillna(test[value].mode()[0], inplace = True)"
   ]
  },
  {
   "cell_type": "code",
   "execution_count": 40,
   "metadata": {},
   "outputs": [
    {
     "data": {
      "text/plain": [
       "car_name               0\n",
       "yr_mfr                 0\n",
       "fuel_type              0\n",
       "kms_run                0\n",
       "sale_price             0\n",
       "city                   0\n",
       "times_viewed           0\n",
       "body_type              0\n",
       "transmission           0\n",
       "variant                0\n",
       "assured_buy            0\n",
       "registered_city        0\n",
       "registered_state       0\n",
       "is_hot                 0\n",
       "rto                    0\n",
       "source                 0\n",
       "make                   0\n",
       "model                  0\n",
       "car_availability       0\n",
       "total_owners           0\n",
       "broker_quote           0\n",
       "car_rating             0\n",
       "ad_created_on          0\n",
       "fitness_certificate    0\n",
       "reserved               0\n",
       "warranty_avail         0\n",
       "dtype: int64"
      ]
     },
     "execution_count": 40,
     "metadata": {},
     "output_type": "execute_result"
    }
   ],
   "source": [
    "test.isnull().sum()"
   ]
  },
  {
   "cell_type": "markdown",
   "metadata": {},
   "source": [
    "## Checking outliers"
   ]
  },
  {
   "cell_type": "code",
   "execution_count": 41,
   "metadata": {},
   "outputs": [
    {
     "data": {
      "image/png": "[encoded data removed]",
      "text/plain": [
       "<Figure size 432x288 with 1 Axes>"
      ]
     },
     "metadata": {
      "needs_background": "light"
     },
     "output_type": "display_data"
    },
    {
     "data": {
      "image/png": "[encoded data removed]",
      "text/plain": [
       "<Figure size 432x288 with 1 Axes>"
      ]
     },
     "metadata": {
      "needs_background": "light"
     },
     "output_type": "display_data"
    },
    {
     "data": {
      "image/png": "[encoded data removed]",
      "text/plain": [
       "<Figure size 432x288 with 1 Axes>"
      ]
     },
     "metadata": {
      "needs_background": "light"
     },
     "output_type": "display_data"
    },
    {
     "data": {
      "image/png": "[encoded data removed]",
      "text/plain": [
       "<Figure size 432x288 with 1 Axes>"
      ]
     },
     "metadata": {
      "needs_background": "light"
     },
     "output_type": "display_data"
    },
    {
     "data": {
      "image/png": "[encoded data removed]",
      "text/plain": [
       "<Figure size 432x288 with 1 Axes>"
      ]
     },
     "metadata": {
      "needs_background": "light"
     },
     "output_type": "display_data"
    },
    {
     "data": {
      "image/png": "[encoded data removed]",
      "text/plain": [
       "<Figure size 432x288 with 1 Axes>"
      ]
     },
     "metadata": {
      "needs_background": "light"
     },
     "output_type": "display_data"
    },
    {
     "data": {
      "image/png": "[encoded data removed]",
      "text/plain": [
       "<Figure size 432x288 with 1 Axes>"
      ]
     },
     "metadata": {
      "needs_background": "light"
     },
     "output_type": "display_data"
    },
    {
     "data": {
      "image/png": "[encoded data removed]",
      "text/plain": [
       "<Figure size 432x288 with 1 Axes>"
      ]
     },
     "metadata": {
      "needs_background": "light"
     },
     "output_type": "display_data"
    },
    {
     "data": {
      "image/png": "[encoded data removed]",
      "text/plain": [
       "<Figure size 432x288 with 1 Axes>"
      ]
     },
     "metadata": {
      "needs_background": "light"
     },
     "output_type": "display_data"
    },
    {
     "data": {
      "image/png": "[encoded data removed]",
      "text/plain": [
       "<Figure size 432x288 with 1 Axes>"
      ]
     },
     "metadata": {
      "needs_background": "light"
     },
     "output_type": "display_data"
    },
    {
     "data": {
      "image/png": "[encoded data removed]",
      "text/plain": [
       "<Figure size 432x288 with 1 Axes>"
      ]
     },
     "metadata": {
      "needs_background": "light"
     },
     "output_type": "display_data"
    }
   ],
   "source": [
    "for x in test.columns:\n",
    "    if test[x].dtypes!=\"O\":\n",
    "        test.boxplot(column=x)\n",
    "        plt.show()"
   ]
  },
  {
   "cell_type": "code",
   "execution_count": 42,
   "metadata": {},
   "outputs": [
    {
     "data": {
      "text/plain": [
       "(998, 26)"
      ]
     },
     "execution_count": 42,
     "metadata": {},
     "output_type": "execute_result"
    }
   ],
   "source": [
    "test = test[test['yr_mfr']>2005]\n",
    "test.shape"
   ]
  },
  {
   "cell_type": "code",
   "execution_count": 43,
   "metadata": {},
   "outputs": [
    {
     "data": {
      "text/plain": [
       "996609"
      ]
     },
     "execution_count": 43,
     "metadata": {},
     "output_type": "execute_result"
    }
   ],
   "source": [
    "max_km_run_test = test['kms_run'].max()\n",
    "max_km_run"
   ]
  },
  {
   "cell_type": "code",
   "execution_count": 44,
   "metadata": {},
   "outputs": [
    {
     "data": {
      "text/plain": [
       "(997, 26)"
      ]
     },
     "execution_count": 44,
     "metadata": {},
     "output_type": "execute_result"
    }
   ],
   "source": [
    "test = test[test['kms_run']<max_km_run_test]\n",
    "test.shape"
   ]
  },
  {
   "cell_type": "code",
   "execution_count": 45,
   "metadata": {},
   "outputs": [
    {
     "data": {
      "text/plain": [
       "(995, 26)"
      ]
     },
     "execution_count": 45,
     "metadata": {},
     "output_type": "execute_result"
    }
   ],
   "source": [
    "test = test[test['sale_price']<3000000]\n",
    "test.shape"
   ]
  },
  {
   "cell_type": "code",
   "execution_count": 46,
   "metadata": {},
   "outputs": [
    {
     "data": {
      "text/plain": [
       "(993, 26)"
      ]
     },
     "execution_count": 46,
     "metadata": {},
     "output_type": "execute_result"
    }
   ],
   "source": [
    "test = test[test['times_viewed']<25000]\n",
    "test.shape"
   ]
  },
  {
   "cell_type": "markdown",
   "metadata": {},
   "source": [
    "## Creating X and Y"
   ]
  },
  {
   "cell_type": "code",
   "execution_count": 47,
   "metadata": {},
   "outputs": [],
   "source": [
    "# Using train data to create X_train & Y_train.\n",
    "\n",
    "X_train = train.drop('sale_price', axis=1)\n",
    "Y_train = train['sale_price']"
   ]
  },
  {
   "cell_type": "code",
   "execution_count": 48,
   "metadata": {},
   "outputs": [],
   "source": [
    "# Using test data to create X_test & Y_test.\n",
    "\n",
    "X_test = test.drop('sale_price', axis=1)\n",
    "Y_test = test['sale_price']"
   ]
  },
  {
   "cell_type": "code",
   "execution_count": 49,
   "metadata": {},
   "outputs": [
    {
     "name": "stdout",
     "output_type": "stream",
     "text": [
      "(6350, 25)\n",
      "(6350,)\n",
      "(993, 25)\n",
      "(993,)\n"
     ]
    }
   ],
   "source": [
    "print(X_train.shape)\n",
    "print(Y_train.shape)\n",
    "print(X_test.shape)\n",
    "print(Y_test.shape)"
   ]
  },
  {
   "cell_type": "markdown",
   "metadata": {},
   "source": [
    "## Scaling the data"
   ]
  },
  {
   "cell_type": "markdown",
   "metadata": {},
   "source": [
    "### Train data"
   ]
  },
  {
   "cell_type": "code",
   "execution_count": 50,
   "metadata": {},
   "outputs": [],
   "source": [
    "# Scaling only numerical data\n",
    "from sklearn.preprocessing import StandardScaler\n",
    "\n",
    "scaler = StandardScaler()\n",
    "\n",
    "# get numeric data\n",
    "num_d = X_train.select_dtypes(exclude=['object'])\n",
    "\n",
    "# update the cols with their normalized values\n",
    "X_train[num_d.columns] = scaler.fit_transform(num_d)"
   ]
  },
  {
   "cell_type": "code",
   "execution_count": 51,
   "metadata": {
    "scrolled": true
   },
   "outputs": [
    {
     "data": {
      "text/html": [
       "<div>\n",
       "<style scoped>\n",
       "    .dataframe tbody tr th:only-of-type {\n",
       "        vertical-align: middle;\n",
       "    }\n",
       "\n",
       "    .dataframe tbody tr th {\n",
       "        vertical-align: top;\n",
       "    }\n",
       "\n",
       "    .dataframe thead th {\n",
       "        text-align: right;\n",
       "    }\n",
       "</style>\n",
       "<table border=\"1\" class=\"dataframe\">\n",
       "  <thead>\n",
       "    <tr style=\"text-align: right;\">\n",
       "      <th></th>\n",
       "      <th>car_name</th>\n",
       "      <th>yr_mfr</th>\n",
       "      <th>fuel_type</th>\n",
       "      <th>kms_run</th>\n",
       "      <th>city</th>\n",
       "      <th>times_viewed</th>\n",
       "      <th>body_type</th>\n",
       "      <th>transmission</th>\n",
       "      <th>variant</th>\n",
       "      <th>assured_buy</th>\n",
       "      <th>registered_city</th>\n",
       "      <th>registered_state</th>\n",
       "      <th>is_hot</th>\n",
       "      <th>rto</th>\n",
       "      <th>source</th>\n",
       "      <th>make</th>\n",
       "      <th>model</th>\n",
       "      <th>car_availability</th>\n",
       "      <th>total_owners</th>\n",
       "      <th>broker_quote</th>\n",
       "      <th>car_rating</th>\n",
       "      <th>ad_created_on</th>\n",
       "      <th>fitness_certificate</th>\n",
       "      <th>reserved</th>\n",
       "      <th>warranty_avail</th>\n",
       "    </tr>\n",
       "  </thead>\n",
       "  <tbody>\n",
       "    <tr>\n",
       "      <th>0</th>\n",
       "      <td>maruti swift</td>\n",
       "      <td>0.348793</td>\n",
       "      <td>petrol</td>\n",
       "      <td>-1.310656</td>\n",
       "      <td>noida</td>\n",
       "      <td>10.813105</td>\n",
       "      <td>hatchback</td>\n",
       "      <td>manual</td>\n",
       "      <td>lxi opt</td>\n",
       "      <td>0.445353</td>\n",
       "      <td>delhi</td>\n",
       "      <td>delhi</td>\n",
       "      <td>0.280769</td>\n",
       "      <td>dl6c</td>\n",
       "      <td>inperson_sale</td>\n",
       "      <td>maruti</td>\n",
       "      <td>swift</td>\n",
       "      <td>in_stock</td>\n",
       "      <td>1.191689</td>\n",
       "      <td>-0.128642</td>\n",
       "      <td>great</td>\n",
       "      <td>2021-04-04T07:09:18.583</td>\n",
       "      <td>0.121248</td>\n",
       "      <td>-0.521081</td>\n",
       "      <td>-0.17129</td>\n",
       "    </tr>\n",
       "    <tr>\n",
       "      <th>1</th>\n",
       "      <td>maruti alto 800</td>\n",
       "      <td>0.684068</td>\n",
       "      <td>petrol</td>\n",
       "      <td>-0.945253</td>\n",
       "      <td>noida</td>\n",
       "      <td>0.736144</td>\n",
       "      <td>hatchback</td>\n",
       "      <td>manual</td>\n",
       "      <td>lxi</td>\n",
       "      <td>0.445353</td>\n",
       "      <td>noida</td>\n",
       "      <td>uttar pradesh</td>\n",
       "      <td>0.280769</td>\n",
       "      <td>up16</td>\n",
       "      <td>inperson_sale</td>\n",
       "      <td>maruti</td>\n",
       "      <td>alto 800</td>\n",
       "      <td>in_stock</td>\n",
       "      <td>-0.564455</td>\n",
       "      <td>-0.570853</td>\n",
       "      <td>great</td>\n",
       "      <td>2021-03-22T14:07:32.833</td>\n",
       "      <td>0.121248</td>\n",
       "      <td>-0.521081</td>\n",
       "      <td>-0.17129</td>\n",
       "    </tr>\n",
       "    <tr>\n",
       "      <th>2</th>\n",
       "      <td>hyundai grand i10</td>\n",
       "      <td>1.019344</td>\n",
       "      <td>petrol</td>\n",
       "      <td>-0.938013</td>\n",
       "      <td>noida</td>\n",
       "      <td>-0.562508</td>\n",
       "      <td>hatchback</td>\n",
       "      <td>manual</td>\n",
       "      <td>sports 1.2 vtvt</td>\n",
       "      <td>0.445353</td>\n",
       "      <td>agra</td>\n",
       "      <td>uttar pradesh</td>\n",
       "      <td>0.280769</td>\n",
       "      <td>up80</td>\n",
       "      <td>inperson_sale</td>\n",
       "      <td>hyundai</td>\n",
       "      <td>grand i10</td>\n",
       "      <td>in_stock</td>\n",
       "      <td>-0.564455</td>\n",
       "      <td>0.126344</td>\n",
       "      <td>great</td>\n",
       "      <td>2021-03-20T05:36:31.311</td>\n",
       "      <td>0.121248</td>\n",
       "      <td>-0.521081</td>\n",
       "      <td>-0.17129</td>\n",
       "    </tr>\n",
       "    <tr>\n",
       "      <th>3</th>\n",
       "      <td>maruti swift</td>\n",
       "      <td>-0.321759</td>\n",
       "      <td>diesel</td>\n",
       "      <td>-0.556066</td>\n",
       "      <td>noida</td>\n",
       "      <td>3.145593</td>\n",
       "      <td>hatchback</td>\n",
       "      <td>manual</td>\n",
       "      <td>vdi</td>\n",
       "      <td>0.445353</td>\n",
       "      <td>delhi</td>\n",
       "      <td>delhi</td>\n",
       "      <td>0.280769</td>\n",
       "      <td>dl1c</td>\n",
       "      <td>inperson_sale</td>\n",
       "      <td>maruti</td>\n",
       "      <td>swift</td>\n",
       "      <td>in_stock</td>\n",
       "      <td>-0.564455</td>\n",
       "      <td>-0.495249</td>\n",
       "      <td>great</td>\n",
       "      <td>2021-01-21T12:59:19.299</td>\n",
       "      <td>0.121248</td>\n",
       "      <td>-0.521081</td>\n",
       "      <td>-0.17129</td>\n",
       "    </tr>\n",
       "    <tr>\n",
       "      <th>4</th>\n",
       "      <td>hyundai grand i10</td>\n",
       "      <td>0.348793</td>\n",
       "      <td>petrol</td>\n",
       "      <td>-0.969255</td>\n",
       "      <td>noida</td>\n",
       "      <td>1.081069</td>\n",
       "      <td>hatchback</td>\n",
       "      <td>manual</td>\n",
       "      <td>magna 1.2 vtvt</td>\n",
       "      <td>-2.245410</td>\n",
       "      <td>new delhi</td>\n",
       "      <td>delhi</td>\n",
       "      <td>0.280769</td>\n",
       "      <td>dl12</td>\n",
       "      <td>inperson_sale</td>\n",
       "      <td>hyundai</td>\n",
       "      <td>grand i10</td>\n",
       "      <td>in_stock</td>\n",
       "      <td>-0.564455</td>\n",
       "      <td>-0.259669</td>\n",
       "      <td>great</td>\n",
       "      <td>2021-04-01T13:33:40.733</td>\n",
       "      <td>0.121248</td>\n",
       "      <td>-0.521081</td>\n",
       "      <td>-0.17129</td>\n",
       "    </tr>\n",
       "  </tbody>\n",
       "</table>\n",
       "</div>"
      ],
      "text/plain": [
       "            car_name    yr_mfr fuel_type   kms_run   city  times_viewed  \\\n",
       "0       maruti swift  0.348793    petrol -1.310656  noida     10.813105   \n",
       "1    maruti alto 800  0.684068    petrol -0.945253  noida      0.736144   \n",
       "2  hyundai grand i10  1.019344    petrol -0.938013  noida     -0.562508   \n",
       "3       maruti swift -0.321759    diesel -0.556066  noida      3.145593   \n",
       "4  hyundai grand i10  0.348793    petrol -0.969255  noida      1.081069   \n",
       "\n",
       "   body_type transmission          variant  assured_buy registered_city  \\\n",
       "0  hatchback       manual          lxi opt     0.445353           delhi   \n",
       "1  hatchback       manual              lxi     0.445353           noida   \n",
       "2  hatchback       manual  sports 1.2 vtvt     0.445353            agra   \n",
       "3  hatchback       manual              vdi     0.445353           delhi   \n",
       "4  hatchback       manual   magna 1.2 vtvt    -2.245410       new delhi   \n",
       "\n",
       "  registered_state    is_hot   rto         source     make      model  \\\n",
       "0            delhi  0.280769  dl6c  inperson_sale   maruti      swift   \n",
       "1    uttar pradesh  0.280769  up16  inperson_sale   maruti   alto 800   \n",
       "2    uttar pradesh  0.280769  up80  inperson_sale  hyundai  grand i10   \n",
       "3            delhi  0.280769  dl1c  inperson_sale   maruti      swift   \n",
       "4            delhi  0.280769  dl12  inperson_sale  hyundai  grand i10   \n",
       "\n",
       "  car_availability  total_owners  broker_quote car_rating  \\\n",
       "0         in_stock      1.191689     -0.128642      great   \n",
       "1         in_stock     -0.564455     -0.570853      great   \n",
       "2         in_stock     -0.564455      0.126344      great   \n",
       "3         in_stock     -0.564455     -0.495249      great   \n",
       "4         in_stock     -0.564455     -0.259669      great   \n",
       "\n",
       "             ad_created_on  fitness_certificate  reserved  warranty_avail  \n",
       "0  2021-04-04T07:09:18.583             0.121248 -0.521081        -0.17129  \n",
       "1  2021-03-22T14:07:32.833             0.121248 -0.521081        -0.17129  \n",
       "2  2021-03-20T05:36:31.311             0.121248 -0.521081        -0.17129  \n",
       "3  2021-01-21T12:59:19.299             0.121248 -0.521081        -0.17129  \n",
       "4  2021-04-01T13:33:40.733             0.121248 -0.521081        -0.17129  "
      ]
     },
     "execution_count": 51,
     "metadata": {},
     "output_type": "execute_result"
    }
   ],
   "source": [
    "X_train.head()"
   ]
  },
  {
   "cell_type": "markdown",
   "metadata": {},
   "source": [
    "## Label encoding"
   ]
  },
  {
   "cell_type": "code",
   "execution_count": 52,
   "metadata": {},
   "outputs": [],
   "source": [
    "# Encoding remaining data\n",
    "import pandas as pd\n",
    "from sklearn.preprocessing import LabelEncoder\n",
    "\n",
    "# extract the categorical columns\n",
    "cat_df = X_train.select_dtypes(include=['object'])\n",
    "\n",
    "# create a LabelEncoder object\n",
    "le = LabelEncoder()\n",
    "\n",
    "# apply the label encoder to the categorical columns\n",
    "cat_df = cat_df.apply(le.fit_transform)\n",
    "\n",
    "# replace the categorical columns in the original DataFrame with the encoded columns\n",
    "X_train[cat_df.columns] = cat_df\n",
    "\n",
    "# print the resulting DataFrame\n",
    "# X_train.head()"
   ]
  },
  {
   "cell_type": "code",
   "execution_count": 53,
   "metadata": {},
   "outputs": [
    {
     "data": {
      "text/html": [
       "<div>\n",
       "<style scoped>\n",
       "    .dataframe tbody tr th:only-of-type {\n",
       "        vertical-align: middle;\n",
       "    }\n",
       "\n",
       "    .dataframe tbody tr th {\n",
       "        vertical-align: top;\n",
       "    }\n",
       "\n",
       "    .dataframe thead th {\n",
       "        text-align: right;\n",
       "    }\n",
       "</style>\n",
       "<table border=\"1\" class=\"dataframe\">\n",
       "  <thead>\n",
       "    <tr style=\"text-align: right;\">\n",
       "      <th></th>\n",
       "      <th>car_name</th>\n",
       "      <th>yr_mfr</th>\n",
       "      <th>fuel_type</th>\n",
       "      <th>kms_run</th>\n",
       "      <th>city</th>\n",
       "      <th>times_viewed</th>\n",
       "      <th>body_type</th>\n",
       "      <th>transmission</th>\n",
       "      <th>variant</th>\n",
       "      <th>assured_buy</th>\n",
       "      <th>registered_city</th>\n",
       "      <th>registered_state</th>\n",
       "      <th>is_hot</th>\n",
       "      <th>rto</th>\n",
       "      <th>source</th>\n",
       "      <th>make</th>\n",
       "      <th>model</th>\n",
       "      <th>car_availability</th>\n",
       "      <th>total_owners</th>\n",
       "      <th>broker_quote</th>\n",
       "      <th>car_rating</th>\n",
       "      <th>ad_created_on</th>\n",
       "      <th>fitness_certificate</th>\n",
       "      <th>reserved</th>\n",
       "      <th>warranty_avail</th>\n",
       "    </tr>\n",
       "  </thead>\n",
       "  <tbody>\n",
       "    <tr>\n",
       "      <th>0</th>\n",
       "      <td>99</td>\n",
       "      <td>0.348793</td>\n",
       "      <td>2</td>\n",
       "      <td>-1.310656</td>\n",
       "      <td>11</td>\n",
       "      <td>10.813105</td>\n",
       "      <td>0</td>\n",
       "      <td>1</td>\n",
       "      <td>504</td>\n",
       "      <td>0.445353</td>\n",
       "      <td>62</td>\n",
       "      <td>3</td>\n",
       "      <td>0.280769</td>\n",
       "      <td>36</td>\n",
       "      <td>1</td>\n",
       "      <td>13</td>\n",
       "      <td>143</td>\n",
       "      <td>0</td>\n",
       "      <td>1.191689</td>\n",
       "      <td>-0.128642</td>\n",
       "      <td>2</td>\n",
       "      <td>5156</td>\n",
       "      <td>0.121248</td>\n",
       "      <td>-0.521081</td>\n",
       "      <td>-0.17129</td>\n",
       "    </tr>\n",
       "    <tr>\n",
       "      <th>1</th>\n",
       "      <td>82</td>\n",
       "      <td>0.684068</td>\n",
       "      <td>2</td>\n",
       "      <td>-0.945253</td>\n",
       "      <td>11</td>\n",
       "      <td>0.736144</td>\n",
       "      <td>0</td>\n",
       "      <td>1</td>\n",
       "      <td>493</td>\n",
       "      <td>0.445353</td>\n",
       "      <td>150</td>\n",
       "      <td>13</td>\n",
       "      <td>0.280769</td>\n",
       "      <td>227</td>\n",
       "      <td>1</td>\n",
       "      <td>13</td>\n",
       "      <td>10</td>\n",
       "      <td>0</td>\n",
       "      <td>-0.564455</td>\n",
       "      <td>-0.570853</td>\n",
       "      <td>2</td>\n",
       "      <td>4058</td>\n",
       "      <td>0.121248</td>\n",
       "      <td>-0.521081</td>\n",
       "      <td>-0.17129</td>\n",
       "    </tr>\n",
       "    <tr>\n",
       "      <th>2</th>\n",
       "      <td>46</td>\n",
       "      <td>1.019344</td>\n",
       "      <td>2</td>\n",
       "      <td>-0.938013</td>\n",
       "      <td>11</td>\n",
       "      <td>-0.562508</td>\n",
       "      <td>0</td>\n",
       "      <td>1</td>\n",
       "      <td>601</td>\n",
       "      <td>0.445353</td>\n",
       "      <td>1</td>\n",
       "      <td>13</td>\n",
       "      <td>0.280769</td>\n",
       "      <td>242</td>\n",
       "      <td>1</td>\n",
       "      <td>7</td>\n",
       "      <td>69</td>\n",
       "      <td>0</td>\n",
       "      <td>-0.564455</td>\n",
       "      <td>0.126344</td>\n",
       "      <td>2</td>\n",
       "      <td>3769</td>\n",
       "      <td>0.121248</td>\n",
       "      <td>-0.521081</td>\n",
       "      <td>-0.17129</td>\n",
       "    </tr>\n",
       "    <tr>\n",
       "      <th>3</th>\n",
       "      <td>99</td>\n",
       "      <td>-0.321759</td>\n",
       "      <td>0</td>\n",
       "      <td>-0.556066</td>\n",
       "      <td>11</td>\n",
       "      <td>3.145593</td>\n",
       "      <td>0</td>\n",
       "      <td>1</td>\n",
       "      <td>678</td>\n",
       "      <td>0.445353</td>\n",
       "      <td>62</td>\n",
       "      <td>3</td>\n",
       "      <td>0.280769</td>\n",
       "      <td>31</td>\n",
       "      <td>1</td>\n",
       "      <td>13</td>\n",
       "      <td>143</td>\n",
       "      <td>0</td>\n",
       "      <td>-0.564455</td>\n",
       "      <td>-0.495249</td>\n",
       "      <td>2</td>\n",
       "      <td>1014</td>\n",
       "      <td>0.121248</td>\n",
       "      <td>-0.521081</td>\n",
       "      <td>-0.17129</td>\n",
       "    </tr>\n",
       "    <tr>\n",
       "      <th>4</th>\n",
       "      <td>46</td>\n",
       "      <td>0.348793</td>\n",
       "      <td>2</td>\n",
       "      <td>-0.969255</td>\n",
       "      <td>11</td>\n",
       "      <td>1.081069</td>\n",
       "      <td>0</td>\n",
       "      <td>1</td>\n",
       "      <td>518</td>\n",
       "      <td>-2.245410</td>\n",
       "      <td>148</td>\n",
       "      <td>3</td>\n",
       "      <td>0.280769</td>\n",
       "      <td>28</td>\n",
       "      <td>1</td>\n",
       "      <td>7</td>\n",
       "      <td>69</td>\n",
       "      <td>0</td>\n",
       "      <td>-0.564455</td>\n",
       "      <td>-0.259669</td>\n",
       "      <td>2</td>\n",
       "      <td>4988</td>\n",
       "      <td>0.121248</td>\n",
       "      <td>-0.521081</td>\n",
       "      <td>-0.17129</td>\n",
       "    </tr>\n",
       "  </tbody>\n",
       "</table>\n",
       "</div>"
      ],
      "text/plain": [
       "   car_name    yr_mfr  fuel_type   kms_run  city  times_viewed  body_type  \\\n",
       "0        99  0.348793          2 -1.310656    11     10.813105          0   \n",
       "1        82  0.684068          2 -0.945253    11      0.736144          0   \n",
       "2        46  1.019344          2 -0.938013    11     -0.562508          0   \n",
       "3        99 -0.321759          0 -0.556066    11      3.145593          0   \n",
       "4        46  0.348793          2 -0.969255    11      1.081069          0   \n",
       "\n",
       "   transmission  variant  assured_buy  registered_city  registered_state  \\\n",
       "0             1      504     0.445353               62                 3   \n",
       "1             1      493     0.445353              150                13   \n",
       "2             1      601     0.445353                1                13   \n",
       "3             1      678     0.445353               62                 3   \n",
       "4             1      518    -2.245410              148                 3   \n",
       "\n",
       "     is_hot  rto  source  make  model  car_availability  total_owners  \\\n",
       "0  0.280769   36       1    13    143                 0      1.191689   \n",
       "1  0.280769  227       1    13     10                 0     -0.564455   \n",
       "2  0.280769  242       1     7     69                 0     -0.564455   \n",
       "3  0.280769   31       1    13    143                 0     -0.564455   \n",
       "4  0.280769   28       1     7     69                 0     -0.564455   \n",
       "\n",
       "   broker_quote  car_rating  ad_created_on  fitness_certificate  reserved  \\\n",
       "0     -0.128642           2           5156             0.121248 -0.521081   \n",
       "1     -0.570853           2           4058             0.121248 -0.521081   \n",
       "2      0.126344           2           3769             0.121248 -0.521081   \n",
       "3     -0.495249           2           1014             0.121248 -0.521081   \n",
       "4     -0.259669           2           4988             0.121248 -0.521081   \n",
       "\n",
       "   warranty_avail  \n",
       "0        -0.17129  \n",
       "1        -0.17129  \n",
       "2        -0.17129  \n",
       "3        -0.17129  \n",
       "4        -0.17129  "
      ]
     },
     "execution_count": 53,
     "metadata": {},
     "output_type": "execute_result"
    }
   ],
   "source": [
    "X_train.head()"
   ]
  },
  {
   "cell_type": "markdown",
   "metadata": {},
   "source": [
    "### Test data"
   ]
  },
  {
   "cell_type": "code",
   "execution_count": 54,
   "metadata": {},
   "outputs": [],
   "source": [
    "# Scaling only numerical data\n",
    "from sklearn.preprocessing import StandardScaler\n",
    "\n",
    "scaler = StandardScaler()\n",
    "\n",
    "# get numeric data\n",
    "num_d = X_test.select_dtypes(exclude=['object'])\n",
    "\n",
    "# update the cols with their normalized values\n",
    "X_test[num_d.columns] = scaler.fit_transform(num_d)"
   ]
  },
  {
   "cell_type": "code",
   "execution_count": 55,
   "metadata": {
    "scrolled": true
   },
   "outputs": [
    {
     "data": {
      "text/html": [
       "<div>\n",
       "<style scoped>\n",
       "    .dataframe tbody tr th:only-of-type {\n",
       "        vertical-align: middle;\n",
       "    }\n",
       "\n",
       "    .dataframe tbody tr th {\n",
       "        vertical-align: top;\n",
       "    }\n",
       "\n",
       "    .dataframe thead th {\n",
       "        text-align: right;\n",
       "    }\n",
       "</style>\n",
       "<table border=\"1\" class=\"dataframe\">\n",
       "  <thead>\n",
       "    <tr style=\"text-align: right;\">\n",
       "      <th></th>\n",
       "      <th>car_name</th>\n",
       "      <th>yr_mfr</th>\n",
       "      <th>fuel_type</th>\n",
       "      <th>kms_run</th>\n",
       "      <th>city</th>\n",
       "      <th>times_viewed</th>\n",
       "      <th>body_type</th>\n",
       "      <th>transmission</th>\n",
       "      <th>variant</th>\n",
       "      <th>assured_buy</th>\n",
       "      <th>registered_city</th>\n",
       "      <th>registered_state</th>\n",
       "      <th>is_hot</th>\n",
       "      <th>rto</th>\n",
       "      <th>source</th>\n",
       "      <th>make</th>\n",
       "      <th>model</th>\n",
       "      <th>car_availability</th>\n",
       "      <th>total_owners</th>\n",
       "      <th>broker_quote</th>\n",
       "      <th>car_rating</th>\n",
       "      <th>ad_created_on</th>\n",
       "      <th>fitness_certificate</th>\n",
       "      <th>reserved</th>\n",
       "      <th>warranty_avail</th>\n",
       "    </tr>\n",
       "  </thead>\n",
       "  <tbody>\n",
       "    <tr>\n",
       "      <th>0</th>\n",
       "      <td>maruti swift dzire</td>\n",
       "      <td>-0.604651</td>\n",
       "      <td>petrol</td>\n",
       "      <td>0.122074</td>\n",
       "      <td>pune</td>\n",
       "      <td>0.304815</td>\n",
       "      <td>sedan</td>\n",
       "      <td>manual</td>\n",
       "      <td>vxi 1.2 bs iv</td>\n",
       "      <td>0.439897</td>\n",
       "      <td>pune</td>\n",
       "      <td>maharashtra</td>\n",
       "      <td>0.273268</td>\n",
       "      <td>mh12</td>\n",
       "      <td>inperson_sale</td>\n",
       "      <td>maruti</td>\n",
       "      <td>swift dzire</td>\n",
       "      <td>in_stock</td>\n",
       "      <td>2.722191</td>\n",
       "      <td>-0.232520</td>\n",
       "      <td>great</td>\n",
       "      <td>2021-03-16T05:00:49.555</td>\n",
       "      <td>0.135873</td>\n",
       "      <td>-0.517880</td>\n",
       "      <td>-0.173444</td>\n",
       "    </tr>\n",
       "    <tr>\n",
       "      <th>1</th>\n",
       "      <td>hyundai eon</td>\n",
       "      <td>-0.275835</td>\n",
       "      <td>petrol</td>\n",
       "      <td>-0.425905</td>\n",
       "      <td>gurgaon</td>\n",
       "      <td>-0.394200</td>\n",
       "      <td>hatchback</td>\n",
       "      <td>manual</td>\n",
       "      <td>era plus</td>\n",
       "      <td>0.439897</td>\n",
       "      <td>delhi</td>\n",
       "      <td>delhi</td>\n",
       "      <td>0.273268</td>\n",
       "      <td>dl7c</td>\n",
       "      <td>inperson_sale</td>\n",
       "      <td>hyundai</td>\n",
       "      <td>eon</td>\n",
       "      <td>in_stock</td>\n",
       "      <td>-0.548391</td>\n",
       "      <td>-0.785903</td>\n",
       "      <td>great</td>\n",
       "      <td>2021-03-10T12:08:11.905</td>\n",
       "      <td>0.135873</td>\n",
       "      <td>-0.517880</td>\n",
       "      <td>-0.173444</td>\n",
       "    </tr>\n",
       "    <tr>\n",
       "      <th>2</th>\n",
       "      <td>honda amaze</td>\n",
       "      <td>-0.275835</td>\n",
       "      <td>diesel</td>\n",
       "      <td>-0.621651</td>\n",
       "      <td>pune</td>\n",
       "      <td>0.749425</td>\n",
       "      <td>sedan</td>\n",
       "      <td>manual</td>\n",
       "      <td>1.5 smt i dtec</td>\n",
       "      <td>0.439897</td>\n",
       "      <td>mumbai</td>\n",
       "      <td>maharashtra</td>\n",
       "      <td>0.273268</td>\n",
       "      <td>mh02</td>\n",
       "      <td>inperson_sale</td>\n",
       "      <td>honda</td>\n",
       "      <td>amaze</td>\n",
       "      <td>in_stock</td>\n",
       "      <td>-0.548391</td>\n",
       "      <td>-0.165402</td>\n",
       "      <td>great</td>\n",
       "      <td>2021-03-15T12:03:30.041</td>\n",
       "      <td>0.135873</td>\n",
       "      <td>1.930951</td>\n",
       "      <td>-0.173444</td>\n",
       "    </tr>\n",
       "    <tr>\n",
       "      <th>3</th>\n",
       "      <td>hyundai i20</td>\n",
       "      <td>-0.604651</td>\n",
       "      <td>petrol</td>\n",
       "      <td>-0.615609</td>\n",
       "      <td>bengaluru</td>\n",
       "      <td>-0.303598</td>\n",
       "      <td>hatchback</td>\n",
       "      <td>manual</td>\n",
       "      <td>magna o 1.2</td>\n",
       "      <td>0.439897</td>\n",
       "      <td>bengaluru</td>\n",
       "      <td>karnataka</td>\n",
       "      <td>0.273268</td>\n",
       "      <td>ka53</td>\n",
       "      <td>inperson_sale</td>\n",
       "      <td>hyundai</td>\n",
       "      <td>i20</td>\n",
       "      <td>in_transit</td>\n",
       "      <td>2.722191</td>\n",
       "      <td>-0.329978</td>\n",
       "      <td>great</td>\n",
       "      <td>2021-04-09T11:16:26.157</td>\n",
       "      <td>0.135873</td>\n",
       "      <td>1.930951</td>\n",
       "      <td>-0.173444</td>\n",
       "    </tr>\n",
       "    <tr>\n",
       "      <th>4</th>\n",
       "      <td>hyundai creta</td>\n",
       "      <td>1.039431</td>\n",
       "      <td>diesel</td>\n",
       "      <td>-0.239538</td>\n",
       "      <td>lucknow</td>\n",
       "      <td>0.820226</td>\n",
       "      <td>suv</td>\n",
       "      <td>automatic</td>\n",
       "      <td>1.6 crdi sx plus auto</td>\n",
       "      <td>0.439897</td>\n",
       "      <td>lucknow</td>\n",
       "      <td>uttar pradesh</td>\n",
       "      <td>0.273268</td>\n",
       "      <td>up32</td>\n",
       "      <td>inperson_sale</td>\n",
       "      <td>hyundai</td>\n",
       "      <td>creta</td>\n",
       "      <td>in_stock</td>\n",
       "      <td>-0.548391</td>\n",
       "      <td>2.419911</td>\n",
       "      <td>great</td>\n",
       "      <td>2021-04-01T07:24:31.712</td>\n",
       "      <td>0.135873</td>\n",
       "      <td>-0.517880</td>\n",
       "      <td>-0.173444</td>\n",
       "    </tr>\n",
       "  </tbody>\n",
       "</table>\n",
       "</div>"
      ],
      "text/plain": [
       "             car_name    yr_mfr fuel_type   kms_run       city  times_viewed  \\\n",
       "0  maruti swift dzire -0.604651    petrol  0.122074       pune      0.304815   \n",
       "1         hyundai eon -0.275835    petrol -0.425905    gurgaon     -0.394200   \n",
       "2         honda amaze -0.275835    diesel -0.621651       pune      0.749425   \n",
       "3         hyundai i20 -0.604651    petrol -0.615609  bengaluru     -0.303598   \n",
       "4       hyundai creta  1.039431    diesel -0.239538    lucknow      0.820226   \n",
       "\n",
       "   body_type transmission                variant  assured_buy registered_city  \\\n",
       "0      sedan       manual          vxi 1.2 bs iv     0.439897            pune   \n",
       "1  hatchback       manual               era plus     0.439897           delhi   \n",
       "2      sedan       manual         1.5 smt i dtec     0.439897          mumbai   \n",
       "3  hatchback       manual            magna o 1.2     0.439897       bengaluru   \n",
       "4        suv    automatic  1.6 crdi sx plus auto     0.439897         lucknow   \n",
       "\n",
       "  registered_state    is_hot   rto         source     make        model  \\\n",
       "0      maharashtra  0.273268  mh12  inperson_sale   maruti  swift dzire   \n",
       "1            delhi  0.273268  dl7c  inperson_sale  hyundai          eon   \n",
       "2      maharashtra  0.273268  mh02  inperson_sale    honda        amaze   \n",
       "3        karnataka  0.273268  ka53  inperson_sale  hyundai          i20   \n",
       "4    uttar pradesh  0.273268  up32  inperson_sale  hyundai        creta   \n",
       "\n",
       "  car_availability  total_owners  broker_quote car_rating  \\\n",
       "0         in_stock      2.722191     -0.232520      great   \n",
       "1         in_stock     -0.548391     -0.785903      great   \n",
       "2         in_stock     -0.548391     -0.165402      great   \n",
       "3       in_transit      2.722191     -0.329978      great   \n",
       "4         in_stock     -0.548391      2.419911      great   \n",
       "\n",
       "             ad_created_on  fitness_certificate  reserved  warranty_avail  \n",
       "0  2021-03-16T05:00:49.555             0.135873 -0.517880       -0.173444  \n",
       "1  2021-03-10T12:08:11.905             0.135873 -0.517880       -0.173444  \n",
       "2  2021-03-15T12:03:30.041             0.135873  1.930951       -0.173444  \n",
       "3  2021-04-09T11:16:26.157             0.135873  1.930951       -0.173444  \n",
       "4  2021-04-01T07:24:31.712             0.135873 -0.517880       -0.173444  "
      ]
     },
     "execution_count": 55,
     "metadata": {},
     "output_type": "execute_result"
    }
   ],
   "source": [
    "X_test.head()"
   ]
  },
  {
   "cell_type": "markdown",
   "metadata": {},
   "source": [
    "## Label encoding"
   ]
  },
  {
   "cell_type": "code",
   "execution_count": 56,
   "metadata": {},
   "outputs": [],
   "source": [
    "# Encoding remaining data\n",
    "import pandas as pd\n",
    "from sklearn.preprocessing import LabelEncoder\n",
    "\n",
    "# extract the categorical columns\n",
    "cat_df = X_test.select_dtypes(include=['object'])\n",
    "\n",
    "# create a LabelEncoder object\n",
    "le = LabelEncoder()\n",
    "\n",
    "# apply the label encoder to the categorical columns\n",
    "cat_df = cat_df.apply(le.fit_transform)\n",
    "\n",
    "# replace the categorical columns in the original DataFrame with the encoded columns\n",
    "X_test[cat_df.columns] = cat_df\n",
    "\n",
    "# print the resulting DataFrame\n",
    "# X_train.head()"
   ]
  },
  {
   "cell_type": "code",
   "execution_count": 57,
   "metadata": {},
   "outputs": [
    {
     "data": {
      "text/html": [
       "<div>\n",
       "<style scoped>\n",
       "    .dataframe tbody tr th:only-of-type {\n",
       "        vertical-align: middle;\n",
       "    }\n",
       "\n",
       "    .dataframe tbody tr th {\n",
       "        vertical-align: top;\n",
       "    }\n",
       "\n",
       "    .dataframe thead th {\n",
       "        text-align: right;\n",
       "    }\n",
       "</style>\n",
       "<table border=\"1\" class=\"dataframe\">\n",
       "  <thead>\n",
       "    <tr style=\"text-align: right;\">\n",
       "      <th></th>\n",
       "      <th>car_name</th>\n",
       "      <th>yr_mfr</th>\n",
       "      <th>fuel_type</th>\n",
       "      <th>kms_run</th>\n",
       "      <th>city</th>\n",
       "      <th>times_viewed</th>\n",
       "      <th>body_type</th>\n",
       "      <th>transmission</th>\n",
       "      <th>variant</th>\n",
       "      <th>assured_buy</th>\n",
       "      <th>registered_city</th>\n",
       "      <th>registered_state</th>\n",
       "      <th>is_hot</th>\n",
       "      <th>rto</th>\n",
       "      <th>source</th>\n",
       "      <th>make</th>\n",
       "      <th>model</th>\n",
       "      <th>car_availability</th>\n",
       "      <th>total_owners</th>\n",
       "      <th>broker_quote</th>\n",
       "      <th>car_rating</th>\n",
       "      <th>ad_created_on</th>\n",
       "      <th>fitness_certificate</th>\n",
       "      <th>reserved</th>\n",
       "      <th>warranty_avail</th>\n",
       "    </tr>\n",
       "  </thead>\n",
       "  <tbody>\n",
       "    <tr>\n",
       "      <th>0</th>\n",
       "      <td>72</td>\n",
       "      <td>-0.604651</td>\n",
       "      <td>2</td>\n",
       "      <td>0.122074</td>\n",
       "      <td>12</td>\n",
       "      <td>0.304815</td>\n",
       "      <td>3</td>\n",
       "      <td>1</td>\n",
       "      <td>298</td>\n",
       "      <td>0.439897</td>\n",
       "      <td>66</td>\n",
       "      <td>5</td>\n",
       "      <td>0.273268</td>\n",
       "      <td>70</td>\n",
       "      <td>1</td>\n",
       "      <td>11</td>\n",
       "      <td>90</td>\n",
       "      <td>0</td>\n",
       "      <td>2.722191</td>\n",
       "      <td>-0.232520</td>\n",
       "      <td>2</td>\n",
       "      <td>524</td>\n",
       "      <td>0.135873</td>\n",
       "      <td>-0.517880</td>\n",
       "      <td>-0.173444</td>\n",
       "    </tr>\n",
       "    <tr>\n",
       "      <th>1</th>\n",
       "      <td>28</td>\n",
       "      <td>-0.275835</td>\n",
       "      <td>2</td>\n",
       "      <td>-0.425905</td>\n",
       "      <td>5</td>\n",
       "      <td>-0.394200</td>\n",
       "      <td>0</td>\n",
       "      <td>1</td>\n",
       "      <td>147</td>\n",
       "      <td>0.439897</td>\n",
       "      <td>25</td>\n",
       "      <td>1</td>\n",
       "      <td>0.273268</td>\n",
       "      <td>23</td>\n",
       "      <td>1</td>\n",
       "      <td>6</td>\n",
       "      <td>35</td>\n",
       "      <td>0</td>\n",
       "      <td>-0.548391</td>\n",
       "      <td>-0.785903</td>\n",
       "      <td>2</td>\n",
       "      <td>452</td>\n",
       "      <td>0.135873</td>\n",
       "      <td>-0.517880</td>\n",
       "      <td>-0.173444</td>\n",
       "    </tr>\n",
       "    <tr>\n",
       "      <th>2</th>\n",
       "      <td>17</td>\n",
       "      <td>-0.275835</td>\n",
       "      <td>0</td>\n",
       "      <td>-0.621651</td>\n",
       "      <td>12</td>\n",
       "      <td>0.749425</td>\n",
       "      <td>3</td>\n",
       "      <td>1</td>\n",
       "      <td>43</td>\n",
       "      <td>0.439897</td>\n",
       "      <td>52</td>\n",
       "      <td>5</td>\n",
       "      <td>0.273268</td>\n",
       "      <td>65</td>\n",
       "      <td>1</td>\n",
       "      <td>5</td>\n",
       "      <td>9</td>\n",
       "      <td>0</td>\n",
       "      <td>-0.548391</td>\n",
       "      <td>-0.165402</td>\n",
       "      <td>2</td>\n",
       "      <td>514</td>\n",
       "      <td>0.135873</td>\n",
       "      <td>1.930951</td>\n",
       "      <td>-0.173444</td>\n",
       "    </tr>\n",
       "    <tr>\n",
       "      <th>3</th>\n",
       "      <td>33</td>\n",
       "      <td>-0.604651</td>\n",
       "      <td>2</td>\n",
       "      <td>-0.615609</td>\n",
       "      <td>1</td>\n",
       "      <td>-0.303598</td>\n",
       "      <td>0</td>\n",
       "      <td>1</td>\n",
       "      <td>211</td>\n",
       "      <td>0.439897</td>\n",
       "      <td>15</td>\n",
       "      <td>4</td>\n",
       "      <td>0.273268</td>\n",
       "      <td>63</td>\n",
       "      <td>1</td>\n",
       "      <td>6</td>\n",
       "      <td>51</td>\n",
       "      <td>1</td>\n",
       "      <td>2.722191</td>\n",
       "      <td>-0.329978</td>\n",
       "      <td>2</td>\n",
       "      <td>878</td>\n",
       "      <td>0.135873</td>\n",
       "      <td>1.930951</td>\n",
       "      <td>-0.173444</td>\n",
       "    </tr>\n",
       "    <tr>\n",
       "      <th>4</th>\n",
       "      <td>26</td>\n",
       "      <td>1.039431</td>\n",
       "      <td>0</td>\n",
       "      <td>-0.239538</td>\n",
       "      <td>8</td>\n",
       "      <td>0.820226</td>\n",
       "      <td>4</td>\n",
       "      <td>0</td>\n",
       "      <td>54</td>\n",
       "      <td>0.439897</td>\n",
       "      <td>47</td>\n",
       "      <td>8</td>\n",
       "      <td>0.273268</td>\n",
       "      <td>111</td>\n",
       "      <td>1</td>\n",
       "      <td>6</td>\n",
       "      <td>27</td>\n",
       "      <td>0</td>\n",
       "      <td>-0.548391</td>\n",
       "      <td>2.419911</td>\n",
       "      <td>2</td>\n",
       "      <td>755</td>\n",
       "      <td>0.135873</td>\n",
       "      <td>-0.517880</td>\n",
       "      <td>-0.173444</td>\n",
       "    </tr>\n",
       "  </tbody>\n",
       "</table>\n",
       "</div>"
      ],
      "text/plain": [
       "   car_name    yr_mfr  fuel_type   kms_run  city  times_viewed  body_type  \\\n",
       "0        72 -0.604651          2  0.122074    12      0.304815          3   \n",
       "1        28 -0.275835          2 -0.425905     5     -0.394200          0   \n",
       "2        17 -0.275835          0 -0.621651    12      0.749425          3   \n",
       "3        33 -0.604651          2 -0.615609     1     -0.303598          0   \n",
       "4        26  1.039431          0 -0.239538     8      0.820226          4   \n",
       "\n",
       "   transmission  variant  assured_buy  registered_city  registered_state  \\\n",
       "0             1      298     0.439897               66                 5   \n",
       "1             1      147     0.439897               25                 1   \n",
       "2             1       43     0.439897               52                 5   \n",
       "3             1      211     0.439897               15                 4   \n",
       "4             0       54     0.439897               47                 8   \n",
       "\n",
       "     is_hot  rto  source  make  model  car_availability  total_owners  \\\n",
       "0  0.273268   70       1    11     90                 0      2.722191   \n",
       "1  0.273268   23       1     6     35                 0     -0.548391   \n",
       "2  0.273268   65       1     5      9                 0     -0.548391   \n",
       "3  0.273268   63       1     6     51                 1      2.722191   \n",
       "4  0.273268  111       1     6     27                 0     -0.548391   \n",
       "\n",
       "   broker_quote  car_rating  ad_created_on  fitness_certificate  reserved  \\\n",
       "0     -0.232520           2            524             0.135873 -0.517880   \n",
       "1     -0.785903           2            452             0.135873 -0.517880   \n",
       "2     -0.165402           2            514             0.135873  1.930951   \n",
       "3     -0.329978           2            878             0.135873  1.930951   \n",
       "4      2.419911           2            755             0.135873 -0.517880   \n",
       "\n",
       "   warranty_avail  \n",
       "0       -0.173444  \n",
       "1       -0.173444  \n",
       "2       -0.173444  \n",
       "3       -0.173444  \n",
       "4       -0.173444  "
      ]
     },
     "execution_count": 57,
     "metadata": {},
     "output_type": "execute_result"
    }
   ],
   "source": [
    "X_test.head()"
   ]
  },
  {
   "cell_type": "code",
   "execution_count": null,
   "metadata": {},
   "outputs": [],
   "source": []
  },
  {
   "cell_type": "markdown",
   "metadata": {},
   "source": [
    "## Training model"
   ]
  },
  {
   "cell_type": "markdown",
   "metadata": {},
   "source": [
    "### 1. Linear Regression"
   ]
  },
  {
   "cell_type": "code",
   "execution_count": 58,
   "metadata": {},
   "outputs": [],
   "source": [
    "from sklearn.linear_model import LinearRegression\n",
    "\n",
    "lr = LinearRegression()\n",
    "\n",
    "lr.fit(X_train,Y_train)\n",
    "\n",
    "Y_pred1 = lr.predict(X_test)"
   ]
  },
  {
   "cell_type": "code",
   "execution_count": 59,
   "metadata": {},
   "outputs": [
    {
     "name": "stdout",
     "output_type": "stream",
     "text": [
      "R-squared: 0.973870279947513\n",
      "RMSE: 44913.27539495737\n",
      "Adj R-square: 0.9731947442688034\n"
     ]
    }
   ],
   "source": [
    "from sklearn.metrics import r2_score,mean_squared_error\n",
    "\n",
    "r2 = r2_score(Y_test,Y_pred1)\n",
    "print(\"R-squared:\",r2)\n",
    "\n",
    "rmse = np.sqrt(mean_squared_error(Y_test,Y_pred1))\n",
    "print(\"RMSE:\",rmse)\n",
    "\n",
    "adjusted_r_squared = 1 - (1-r2)*(len(Y_test)-1)/(len(Y_test)-X_train.shape[1]-1)\n",
    "print(\"Adj R-square:\",adjusted_r_squared)"
   ]
  },
  {
   "cell_type": "code",
   "execution_count": 60,
   "metadata": {},
   "outputs": [
    {
     "data": {
      "text/plain": [
       "454604.9"
      ]
     },
     "execution_count": 60,
     "metadata": {},
     "output_type": "execute_result"
    }
   ],
   "source": [
    "# To check value of RMSE with mean of dependent variable\n",
    "4.546049e+05"
   ]
  },
  {
   "cell_type": "code",
   "execution_count": 61,
   "metadata": {},
   "outputs": [
    {
     "data": {
      "text/plain": [
       "0.963667507569789"
      ]
     },
     "execution_count": 61,
     "metadata": {},
     "output_type": "execute_result"
    }
   ],
   "source": [
    "lr.score(X_train,Y_train)"
   ]
  },
  {
   "cell_type": "markdown",
   "metadata": {},
   "source": [
    "## 2. Ridge"
   ]
  },
  {
   "cell_type": "code",
   "execution_count": 62,
   "metadata": {},
   "outputs": [
    {
     "data": {
      "text/plain": [
       "Ridge(alpha=1.0, copy_X=True, fit_intercept=True, max_iter=None,\n",
       "      normalize=False, random_state=None, solver='auto', tol=0.001)"
      ]
     },
     "execution_count": 62,
     "metadata": {},
     "output_type": "execute_result"
    }
   ],
   "source": [
    "from sklearn.linear_model import Ridge\n",
    "#Create a model object\n",
    "ridge = Ridge()\n",
    "# train the model object\n",
    "ridge.fit(X_train, Y_train)\n",
    "\n",
    "# print intercept and coefficient\n",
    "# print(ridge.intercept_)\n",
    "# print(ridge.coef_)"
   ]
  },
  {
   "cell_type": "code",
   "execution_count": 63,
   "metadata": {},
   "outputs": [],
   "source": [
    "# predict using the model\n",
    "Y_pred2 = ridge.predict(X_test)\n",
    "# print(Y_pred2)"
   ]
  },
  {
   "cell_type": "code",
   "execution_count": 64,
   "metadata": {},
   "outputs": [
    {
     "name": "stdout",
     "output_type": "stream",
     "text": [
      "R-squared: 0.9738491231298921\n",
      "RMSE: 44931.454497284394\n",
      "Adj R-square: 0.9731730404807166\n"
     ]
    }
   ],
   "source": [
    "from sklearn.metrics import r2_score,mean_squared_error\n",
    "\n",
    "r2 = r2_score(Y_test,Y_pred2)\n",
    "print(\"R-squared:\",r2)\n",
    "\n",
    "rmse = np.sqrt(mean_squared_error(Y_test,Y_pred2))\n",
    "print(\"RMSE:\",rmse)\n",
    "\n",
    "adjusted_r_squared = 1 - (1-r2)*(len(Y_test)-1)/(len(Y_test)-X_train.shape[1]-1)\n",
    "print(\"Adj R-square:\",adjusted_r_squared)"
   ]
  },
  {
   "cell_type": "code",
   "execution_count": 65,
   "metadata": {},
   "outputs": [
    {
     "data": {
      "text/plain": [
       "0.9636674093864956"
      ]
     },
     "execution_count": 65,
     "metadata": {},
     "output_type": "execute_result"
    }
   ],
   "source": [
    "ridge.score(X_train,Y_train)"
   ]
  },
  {
   "cell_type": "markdown",
   "metadata": {},
   "source": [
    "## 3. Lasso"
   ]
  },
  {
   "cell_type": "code",
   "execution_count": 83,
   "metadata": {},
   "outputs": [
    {
     "name": "stdout",
     "output_type": "stream",
     "text": [
      "457253.72469587676\n",
      "[ 1.07709374e+03  5.00155883e+03 -6.22255496e+03  1.87294452e+03\n",
      " -6.48534691e+02 -1.31762755e+03  1.20109384e+03 -1.22935573e+04\n",
      " -9.65035868e+00 -2.96030023e+03  3.46393235e+00  1.44253384e+03\n",
      " -2.23395919e+04 -3.57514852e+01  5.90479207e+04 -7.95803939e+03\n",
      " -1.44093097e+02  2.22920266e+03  2.09289074e+03  2.64690525e+05\n",
      " -1.72489706e+04  1.87455362e+00  7.99599237e+03 -2.05387027e+03\n",
      " -3.03485686e+01]\n"
     ]
    },
    {
     "name": "stderr",
     "output_type": "stream",
     "text": [
      "C:\\Users\\91810\\anaconda3\\lib\\site-packages\\sklearn\\linear_model\\_coordinate_descent.py:476: ConvergenceWarning: Objective did not converge. You might want to increase the number of iterations. Duality gap: 7207486356193.31, tolerance: 46963708424.637726\n",
      "  positive)\n"
     ]
    }
   ],
   "source": [
    "from sklearn.linear_model import Lasso\n",
    "#Create a model object\n",
    "lasso = Lasso()\n",
    "# train the model object\n",
    "lasso.fit(X_train, Y_train)\n",
    "\n",
    "# print intercept and coefficient\n",
    "print(lasso.intercept_)\n",
    "print(lasso.coef_)"
   ]
  },
  {
   "cell_type": "code",
   "execution_count": 82,
   "metadata": {},
   "outputs": [],
   "source": [
    "# predict using the model\n",
    "Y_pred3 = lasso.predict(X_test)\n",
    "# print(Y_pred3)"
   ]
  },
  {
   "cell_type": "code",
   "execution_count": 68,
   "metadata": {},
   "outputs": [
    {
     "name": "stdout",
     "output_type": "stream",
     "text": [
      "R-squared: 0.9738743571871629\n",
      "RMSE: 44909.771160488686\n",
      "Adj R-square: 0.9731989269179582\n"
     ]
    }
   ],
   "source": [
    "from sklearn.metrics import r2_score,mean_squared_error\n",
    "\n",
    "r2 = r2_score(Y_test,Y_pred3)\n",
    "print(\"R-squared:\",r2)\n",
    "\n",
    "rmse = np.sqrt(mean_squared_error(Y_test,Y_pred3))\n",
    "print(\"RMSE:\",rmse)\n",
    "\n",
    "adjusted_r_squared = 1 - (1-r2)*(len(Y_test)-1)/(len(Y_test)-X_train.shape[1]-1)\n",
    "print(\"Adj R-square:\",adjusted_r_squared)"
   ]
  },
  {
   "cell_type": "code",
   "execution_count": 69,
   "metadata": {},
   "outputs": [
    {
     "data": {
      "text/plain": [
       "0.9636675060480869"
      ]
     },
     "execution_count": 69,
     "metadata": {},
     "output_type": "execute_result"
    }
   ],
   "source": [
    "lasso.score(X_train, Y_train)"
   ]
  },
  {
   "cell_type": "markdown",
   "metadata": {},
   "source": [
    "## 4. Decision Tree"
   ]
  },
  {
   "cell_type": "code",
   "execution_count": 70,
   "metadata": {},
   "outputs": [],
   "source": [
    "from sklearn.tree import DecisionTreeRegressor\n",
    "\n",
    "model_DecisionTree = DecisionTreeRegressor(random_state = 10)\n",
    "\n",
    "# fit the model on the data and predict the values\n",
    "\n",
    "model_DecisionTree.fit(X_train, Y_train)\n",
    "\n",
    "Y_pred4 = model_DecisionTree.predict(X_test)\n",
    "\n",
    "# print(Y_pred)"
   ]
  },
  {
   "cell_type": "code",
   "execution_count": 71,
   "metadata": {},
   "outputs": [
    {
     "name": "stdout",
     "output_type": "stream",
     "text": [
      "R-squared: 0.8139236789417066\n",
      "RMSE: 119854.10277237739\n",
      "Adj R-square: 0.8091130191418541\n"
     ]
    }
   ],
   "source": [
    "from sklearn.metrics import r2_score,mean_squared_error\n",
    "\n",
    "r2 = r2_score(Y_test,Y_pred4)\n",
    "print(\"R-squared:\",r2)\n",
    "\n",
    "rmse = np.sqrt(mean_squared_error(Y_test,Y_pred4))\n",
    "print(\"RMSE:\",rmse)\n",
    "\n",
    "adjusted_r_squared = 1 - (1-r2)*(len(Y_test)-1)/(len(Y_test)-X_train.shape[1]-1)\n",
    "print(\"Adj R-square:\",adjusted_r_squared)"
   ]
  },
  {
   "cell_type": "code",
   "execution_count": 72,
   "metadata": {},
   "outputs": [
    {
     "data": {
      "text/plain": [
       "1.0"
      ]
     },
     "execution_count": 72,
     "metadata": {},
     "output_type": "execute_result"
    }
   ],
   "source": [
    "model_DecisionTree.score(X_train, Y_train)"
   ]
  },
  {
   "cell_type": "markdown",
   "metadata": {},
   "source": [
    "### 4.1 Tunning "
   ]
  },
  {
   "cell_type": "code",
   "execution_count": 73,
   "metadata": {},
   "outputs": [],
   "source": [
    "from sklearn.tree import DecisionTreeRegressor\n",
    "\n",
    "model_DecisionTree = DecisionTreeRegressor(random_state = 10, splitter = 'best', min_samples_leaf = 3,\n",
    "                                           min_samples_split = 5)\n",
    "\n",
    "# fit the model on the data and predict the values\n",
    "\n",
    "model_DecisionTree.fit(X_train, Y_train)\n",
    "\n",
    "Y_pred5 = model_DecisionTree.predict(X_test)\n",
    "\n",
    "# print(Y_pred)"
   ]
  },
  {
   "cell_type": "code",
   "execution_count": 74,
   "metadata": {},
   "outputs": [
    {
     "name": "stdout",
     "output_type": "stream",
     "text": [
      "R-squared: 0.7938361386562\n",
      "RMSE: 126157.65840300324\n",
      "Adj R-square: 0.7885061525821617\n"
     ]
    }
   ],
   "source": [
    "from sklearn.metrics import r2_score,mean_squared_error\n",
    "\n",
    "r2 = r2_score(Y_test,Y_pred5)\n",
    "print(\"R-squared:\",r2)\n",
    "\n",
    "rmse = np.sqrt(mean_squared_error(Y_test,Y_pred5))\n",
    "print(\"RMSE:\",rmse)\n",
    "\n",
    "adjusted_r_squared = 1 - (1-r2)*(len(Y_test)-1)/(len(Y_test)-X_train.shape[1]-1)\n",
    "print(\"Adj R-square:\",adjusted_r_squared)"
   ]
  },
  {
   "cell_type": "markdown",
   "metadata": {},
   "source": [
    "## 5. XG Boost"
   ]
  },
  {
   "cell_type": "code",
   "execution_count": 75,
   "metadata": {},
   "outputs": [],
   "source": [
    "#predicting using the XGBoosting_Classifier\n",
    "from xgboost import XGBRegressor\n",
    "\n",
    "model_XGBRegressor=XGBRegressor(n_estimators=100, random_state=10)\n",
    "\n",
    "#fit the model on the data and predict the values\n",
    "model_XGBRegressor.fit(X_train,Y_train)\n",
    "Y_pred5 = model_XGBRegressor.predict(X_test)"
   ]
  },
  {
   "cell_type": "code",
   "execution_count": 76,
   "metadata": {},
   "outputs": [
    {
     "name": "stdout",
     "output_type": "stream",
     "text": [
      "R-squared: 0.9365939644662197\n",
      "RMSE: 69963.68076913692\n",
      "Adj R-square: 0.9349547184596587\n"
     ]
    }
   ],
   "source": [
    "from sklearn.metrics import r2_score,mean_squared_error\n",
    "\n",
    "r2 = r2_score(Y_test,Y_pred5)\n",
    "print(\"R-squared:\",r2)\n",
    "\n",
    "rmse = np.sqrt(mean_squared_error(Y_test,Y_pred5))\n",
    "print(\"RMSE:\",rmse)\n",
    "\n",
    "adjusted_r_squared = 1 - (1-r2)*(len(Y_test)-1)/(len(Y_test)-X_train.shape[1]-1)\n",
    "print(\"Adj R-square:\",adjusted_r_squared)"
   ]
  },
  {
   "cell_type": "code",
   "execution_count": 77,
   "metadata": {},
   "outputs": [
    {
     "data": {
      "text/plain": [
       "0.9985682797358322"
      ]
     },
     "execution_count": 77,
     "metadata": {},
     "output_type": "execute_result"
    }
   ],
   "source": [
    "model_XGBRegressor.score(X_train,Y_train)"
   ]
  },
  {
   "cell_type": "markdown",
   "metadata": {},
   "source": [
    "## Compare models"
   ]
  },
  {
   "cell_type": "code",
   "execution_count": 78,
   "metadata": {},
   "outputs": [],
   "source": [
    "import pandas as pd\n",
    "\n",
    "# Create a list of dictionaries, where each dictionary represents a regression model\n",
    "regression_models = [\n",
    "    {'model_name': 'LinearRegression', 'Score': 0.963667507569789, 'R-squared': 0.973870279947513, \n",
    "     'RMSC': 44913.27539495737, 'Adj.R-squared': 0.9731947442688034},\n",
    "    \n",
    "    {'model_name': 'Ridge', 'Score': 0.9636674093864956, 'R-squared': 0.9738491231298921, \n",
    "     'RMSC': 44931.454497284394, 'Adj.R-squared': 0.9731730404807166},\n",
    "    \n",
    "    {'model_name': 'Lasso', 'Score': 0.9636675060480869, 'R-squared': 0.9738743571871629, \n",
    "     'RMSC': 44909.771160488686, 'Adj.R-squared': 0.9731989269179582},\n",
    "    \n",
    "    {'model_name': 'DecisionTree', 'Score': 0.9928593148586365, 'R-squared': 0.8139236789417066, \n",
    "     'RMSC': 119854.10277237739, 'Adj.R-squared': 0.8091130191418541},\n",
    "    \n",
    "    {'model_name': 'XGBoost', 'Score' : 0.9985682797358322, 'R-squared': 0.9365939644662197, \n",
    "     'RMSC': 69963.68076913692, 'Adj.R-squared': 0.9349547184596587}\n",
    "]\n",
    "\n",
    "# Create the dataframe from the list of dictionaries\n",
    "df = pd.DataFrame(regression_models)\n",
    "\n",
    "# View the dataframe\n",
    "# print(df)\n"
   ]
  },
  {
   "cell_type": "code",
   "execution_count": 79,
   "metadata": {},
   "outputs": [
    {
     "data": {
      "text/html": [
       "<div>\n",
       "<style scoped>\n",
       "    .dataframe tbody tr th:only-of-type {\n",
       "        vertical-align: middle;\n",
       "    }\n",
       "\n",
       "    .dataframe tbody tr th {\n",
       "        vertical-align: top;\n",
       "    }\n",
       "\n",
       "    .dataframe thead th {\n",
       "        text-align: right;\n",
       "    }\n",
       "</style>\n",
       "<table border=\"1\" class=\"dataframe\">\n",
       "  <thead>\n",
       "    <tr style=\"text-align: right;\">\n",
       "      <th></th>\n",
       "      <th>model_name</th>\n",
       "      <th>Score</th>\n",
       "      <th>R-squared</th>\n",
       "      <th>RMSC</th>\n",
       "      <th>Adj.R-squared</th>\n",
       "    </tr>\n",
       "  </thead>\n",
       "  <tbody>\n",
       "    <tr>\n",
       "      <th>0</th>\n",
       "      <td>LinearRegression</td>\n",
       "      <td>0.963668</td>\n",
       "      <td>0.973870</td>\n",
       "      <td>44913.275395</td>\n",
       "      <td>0.973195</td>\n",
       "    </tr>\n",
       "    <tr>\n",
       "      <th>1</th>\n",
       "      <td>Ridge</td>\n",
       "      <td>0.963667</td>\n",
       "      <td>0.973849</td>\n",
       "      <td>44931.454497</td>\n",
       "      <td>0.973173</td>\n",
       "    </tr>\n",
       "    <tr>\n",
       "      <th>2</th>\n",
       "      <td>Lasso</td>\n",
       "      <td>0.963668</td>\n",
       "      <td>0.973874</td>\n",
       "      <td>44909.771160</td>\n",
       "      <td>0.973199</td>\n",
       "    </tr>\n",
       "    <tr>\n",
       "      <th>3</th>\n",
       "      <td>DecisionTree</td>\n",
       "      <td>0.992859</td>\n",
       "      <td>0.813924</td>\n",
       "      <td>119854.102772</td>\n",
       "      <td>0.809113</td>\n",
       "    </tr>\n",
       "    <tr>\n",
       "      <th>4</th>\n",
       "      <td>XGBoost</td>\n",
       "      <td>0.998568</td>\n",
       "      <td>0.936594</td>\n",
       "      <td>69963.680769</td>\n",
       "      <td>0.934955</td>\n",
       "    </tr>\n",
       "  </tbody>\n",
       "</table>\n",
       "</div>"
      ],
      "text/plain": [
       "         model_name     Score  R-squared           RMSC  Adj.R-squared\n",
       "0  LinearRegression  0.963668   0.973870   44913.275395       0.973195\n",
       "1             Ridge  0.963667   0.973849   44931.454497       0.973173\n",
       "2             Lasso  0.963668   0.973874   44909.771160       0.973199\n",
       "3      DecisionTree  0.992859   0.813924  119854.102772       0.809113\n",
       "4           XGBoost  0.998568   0.936594   69963.680769       0.934955"
      ]
     },
     "execution_count": 79,
     "metadata": {},
     "output_type": "execute_result"
    }
   ],
   "source": [
    "df.head()"
   ]
  },
  {
   "cell_type": "code",
   "execution_count": 80,
   "metadata": {},
   "outputs": [],
   "source": [
    "# XG Boost\n",
    "# R-squared: 0.9365939644662197\n",
    "# RMSE: 69963.68076913692\n",
    "# Adj R-square: 0.9349547184596587\n",
    "\n",
    "# Decision Tree\n",
    "# R-squared: 0.8139236789417066\n",
    "# RMSE: 119854.10277237739\n",
    "# Adj R-square: 0.8091130191418541\n",
    "\n",
    "# Lasso\n",
    "# R-squared: 0.9738743571871629\n",
    "# RMSE: 44909.771160488686\n",
    "# Adj R-square: 0.9731989269179582\n",
    "\n",
    "# Ridge\n",
    "# R-squared: 0.9738491231298921\n",
    "# RMSE: 44931.454497284394\n",
    "# Adj R-square: 0.9731730404807166\n",
    "    \n",
    "# Linear Regression\n",
    "# R-squared: 0.973870279947513\n",
    "# RMSE: 44913.27539495737\n",
    "# Adj R-square: 0.9731947442688034"
   ]
  },
  {
   "cell_type": "markdown",
   "metadata": {},
   "source": [
    "## Conclusion"
   ]
  },
  {
   "cell_type": "markdown",
   "metadata": {},
   "source": [
    "The value of a car drops right from the moment it is bought and the depreciation continues with each passing year.\n",
    "\n",
    "The make and model of a car, total kilometers driven, overall condition of the vehicle and various other factors further \n",
    "affect the car’s resale value.\n",
    "\n",
    "From these above results it would suggest that Lasso Regression is perhaps worthy of further study on this problem.\n",
    "\n",
    "Among all the methods Lasso Regression is the best of all which gives best results we can observe it's R-square (0.9738743571871629) and also We can observe from above conclusion table that among all Lasso Regression has lowest rmse that means less error.\n",
    "\n",
    "I prefer Lasso Regression for better predictions\n",
    "\n",
    "so we can choose Lasso Regression as our final model which will predict best results"
   ]
  },
  {
   "cell_type": "code",
   "execution_count": null,
   "metadata": {},
   "outputs": [],
   "source": []
  }
 ],
 "metadata": {
  "kernelspec": {
   "display_name": "Python 3",
   "language": "python",
   "name": "python3"
  },
  "language_info": {
   "codemirror_mode": {
    "name": "ipython",
    "version": 3
   },
   "file_extension": ".py",
   "mimetype": "text/x-python",
   "name": "python",
   "nbconvert_exporter": "python",
   "pygments_lexer": "ipython3",
   "version": "3.7.6"
  }
 },
 "nbformat": 4,
 "nbformat_minor": 4
}
